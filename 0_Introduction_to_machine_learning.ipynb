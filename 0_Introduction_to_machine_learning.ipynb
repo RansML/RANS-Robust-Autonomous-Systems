{
 "cells": [
  {
   "cell_type": "markdown",
   "metadata": {},
   "source": [
    "#### Tpoics\n",
    "0. Linear Algebra, Statistics, and Probability in Python\n",
    "1. Regression \n",
    "2. Classification\n",
    "3. Clustering\n",
    "4. Dimensionality reduction\n",
    "5. Other topics\n",
    "6. Big Data infrastructure (SQL, Hadoop/Spark, and Cloud Platforms)"
   ]
  },
  {
   "cell_type": "code",
   "execution_count": null,
   "metadata": {},
   "outputs": [],
   "source": []
  }
 ],
 "metadata": {
  "kernelspec": {
   "display_name": "Python 3",
   "language": "python",
   "name": "python3"
  },
  "language_info": {
   "codemirror_mode": {
    "name": "ipython",
    "version": 3
   },
   "file_extension": ".py",
   "mimetype": "text/x-python",
   "name": "python",
   "nbconvert_exporter": "python",
   "pygments_lexer": "ipython3",
   "version": "3.6.7"
  }
 },
 "nbformat": 4,
 "nbformat_minor": 2
}
