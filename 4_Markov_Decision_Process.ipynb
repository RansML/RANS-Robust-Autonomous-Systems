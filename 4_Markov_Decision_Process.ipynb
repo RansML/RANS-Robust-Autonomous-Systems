{
 "cells": [
  {
   "cell_type": "markdown",
   "metadata": {},
   "source": [
    "# Markov Decision Process (MDP)"
   ]
  },
  {
   "cell_type": "markdown",
   "metadata": {},
   "source": [
    "### Ransalu Senanayake"
   ]
  },
  {
   "cell_type": "code",
   "execution_count": 1,
   "metadata": {},
   "outputs": [],
   "source": [
    "import copy\n",
    "import timeit\n",
    "import numpy as np\n",
    "import matplotlib.pyplot as pl\n",
    "%matplotlib inline\n",
    "from ipywidgets import interactive\n",
    "import ipywidgets as widgets"
   ]
  },
  {
   "cell_type": "markdown",
   "metadata": {},
   "source": [
    "Create the following grid world.\n",
    "\n",
    "**States:** A 10x10 grid\n",
    "\n",
    "**Actions:** Up, Down, Left, Right\n",
    "\n",
    "**Tranistion probabilities:** \n",
    "* 0.7 in the direction of action\n",
    "* 0.1 in the three other directions\n",
    "* The robot bounces back to the same state near edges\n",
    "\n",
    "**Rewards:**\n",
    "* (7,8) has a reward +10\n",
    "* (2,7) has a reward +3\n",
    "* (4,3) has a reward -5\n",
    "* (7,3) has a reward -10\n",
    "* No reward in other states\n",
    "\n",
    "This example is based on Decision Making Under Uncertainty by M.J. Kochenderfer."
   ]
  },
  {
   "cell_type": "code",
   "execution_count": 2,
   "metadata": {},
   "outputs": [],
   "source": [
    "#Let's define MDP paras\n",
    "def createGrid10World():\n",
    "    def xy2s(y, x):\n",
    "        x = max(x, 0)\n",
    "        y = max(y, 0)\n",
    "        x = min(x, 9)\n",
    "        y = min(y, 9)\n",
    "        out = np.ravel_multi_index(np.array([x,y]), (10,10))\n",
    "        return out\n",
    "\n",
    "    def s2xy(s):\n",
    "        x, y = np.unravel_index(s, (10,10))\n",
    "        return y, x\n",
    "\n",
    "    def gridPlot(ax, im, title='', cmap='Blues'):\n",
    "        pl.imshow(im, interpolation='none', cmap=cmap, origin='lower')\n",
    "        pl.colorbar()\n",
    "        ax.set_xticks(np.arange(0, 10, 1));\n",
    "        ax.set_yticks(np.arange(0, 10, 1));\n",
    "        ax.set_xticklabels(np.arange(0, 10, 1));\n",
    "        ax.set_yticklabels(np.arange(0, 10, 1));\n",
    "        ax.set_xticks(np.arange(-.5, 10, 1), minor=True);\n",
    "        ax.set_yticks(np.arange(-.5, 10, 1), minor=True);\n",
    "        ax.grid(which='minor', color='w', linestyle='-', linewidth=1)\n",
    "        pl.title(title);\n",
    "        return \n",
    "    \n",
    "    A = ['left', 'right', 'up', 'down']\n",
    "    S = np.arange(100)\n",
    "    T = np.zeros((len(S), len(A), len(S)))\n",
    "    R = np.zeros((len(S), len(A)))\n",
    "    for s in S:\n",
    "        x, y = s2xy(s)\n",
    "        if x == 2 and y == 7:\n",
    "            R[s, :] = 3\n",
    "        elif x == 7 and y == 8:\n",
    "            R[s, :] = 10\n",
    "        else:\n",
    "            if x == 7 and y == 3:\n",
    "                R[s, :] = -10\n",
    "            elif x == 4 and y == 3:\n",
    "                R[s, :] = -5\n",
    "            elif x == 0:\n",
    "                if y == 0 or y == 9:\n",
    "                    R[s, :] = -0.2\n",
    "                else:\n",
    "                    R[s, :] = -0.1\n",
    "                R[s, 0] = -0.7\n",
    "            elif x == 9:\n",
    "                if y == 0 or y == 9:\n",
    "                    R[s, :] = -0.2\n",
    "                else:\n",
    "                    R[s, :] = -0.1\n",
    "                R[s, 1] = -0.7\n",
    "            elif y == 0:\n",
    "                if x == 0 or x == 9:\n",
    "                    R[s, :] = -0.2\n",
    "                else:\n",
    "                    R[s, :] = -0.1\n",
    "                R[s, 3] = -0.7\n",
    "            elif y == 9:\n",
    "                if x == 0 or x == 9:\n",
    "                    R[s, :] = -0.2\n",
    "                else:\n",
    "                    R[s, :] = -0.1\n",
    "                R[s, 2] = -0.7\n",
    "                \n",
    "            for a in A:\n",
    "                if a == 'left':\n",
    "                    T[s, 0, xy2s(x - 1, y)] += 0.7\n",
    "                    T[s, 0, xy2s(x + 1, y)] += 0.1\n",
    "                    T[s, 0, xy2s(x, y - 1)] += 0.1\n",
    "                    T[s, 0, xy2s(x, y + 1)] += 0.1\n",
    "                elif a == 'right':\n",
    "                    T[s, 1, xy2s(x + 1, y)] += 0.7\n",
    "                    T[s, 1, xy2s(x - 1, y)] += 0.1\n",
    "                    T[s, 1, xy2s(x, y - 1)] += 0.1\n",
    "                    T[s, 1, xy2s(x, y + 1)] += 0.1\n",
    "                elif a == 'up':\n",
    "                    T[s, 2, xy2s(x, y + 1)] += 0.7\n",
    "                    T[s, 2, xy2s(x, y - 1)] += 0.1\n",
    "                    T[s, 2, xy2s(x - 1, y)] += 0.1\n",
    "                    T[s, 2, xy2s(x + 1, y)] += 0.1\n",
    "                elif a == 'down':\n",
    "                    T[s, 3, xy2s(x, y - 1)] += 0.7\n",
    "                    T[s, 3, xy2s(x, y + 1)] += 0.1\n",
    "                    T[s, 3, xy2s(x - 1, y)] += 0.1\n",
    "                    T[s, 3, xy2s(x + 1, y)] += 0.1\n",
    "\n",
    "    for a, c_x, c_y in [(0,0,0), (0,0,9),(1,9,0),(1,9,9),(2,0,9),(2,9,9),(3,0,0),(3,9,0)]:                \n",
    "        R[xy2s(c_x,c_y),a] = -0.8\n",
    " \n",
    "    discount = 0.9\n",
    "\n",
    "    nextStates = {}\n",
    "    for si in range(len(S)):\n",
    "        for ai in range(len(A)):\n",
    "            nextStates[(si,ai)] = np.where((T[si, ai, :] != 0) == True)[0]\n",
    "    \n",
    "    return {'S':S, 'A':A, 'T':T, 'R':R, 'discount':discount, 'nextStates':nextStates, 'gridPlot':gridPlot, 'xy2s':xy2s, 's2xy':s2xy}"
   ]
  },
  {
   "cell_type": "code",
   "execution_count": 3,
   "metadata": {},
   "outputs": [],
   "source": [
    "class MDP():\n",
    "    def __init__(self):\n",
    "        pass\n",
    "        \n",
    "    def inbuilt_init(self, mdp_dict):\n",
    "        self.S = mdp_dict['S']\n",
    "        self.A = mdp_dict['A']\n",
    "        self.T = mdp_dict['T']\n",
    "        self.R = mdp_dict['R']\n",
    "        self.discount = mdp_dict['discount']\n",
    "        self.nextStates = mdp_dict['nextStates']\n",
    "        self.gridPlot = mdp_dict['gridPlot']\n",
    "        self.xy2s = mdp_dict['xy2s']\n",
    "        self.s2xy = mdp_dict['s2xy']"
   ]
  },
  {
   "cell_type": "code",
   "execution_count": 6,
   "metadata": {},
   "outputs": [
    {
     "data": {
      "image/png": "[encoded data removed]",
      "text/plain": [
       "<Figure size 216x216 with 2 Axes>"
      ]
     },
     "metadata": {
      "needs_background": "light"
     },
     "output_type": "display_data"
    },
    {
     "data": {
      "image/png": "[encoded data removed]",
      "text/plain": [
       "<Figure size 1080x216 with 8 Axes>"
      ]
     },
     "metadata": {
      "needs_background": "light"
     },
     "output_type": "display_data"
    },
    {
     "data": {
      "image/png": "[encoded data removed]",
      "text/plain": [
       "<Figure size 1080x216 with 8 Axes>"
      ]
     },
     "metadata": {
      "needs_background": "light"
     },
     "output_type": "display_data"
    },
    {
     "data": {
      "image/png": "[encoded data removed]",
      "text/plain": [
       "<Figure size 1080x216 with 8 Axes>"
      ]
     },
     "metadata": {
      "needs_background": "light"
     },
     "output_type": "display_data"
    }
   ],
   "source": [
    "#Define the MDP\n",
    "mdp = MDP()\n",
    "mdp.inbuilt_init(mdp_dict=createGrid10World())\n",
    "\n",
    "#Plot states\n",
    "pl.figure(figsize=(3,3))\n",
    "mdp.gridPlot(ax=pl.gca(), im=mdp.S.reshape((10,10)), title='States', cmap='Greys')\n",
    "\n",
    "#Plot rewards\n",
    "pl.figure(figsize=(15,3))\n",
    "pl.suptitle('Rewards', fontsize=15)\n",
    "for a in range(4):\n",
    "    pl.subplot(1,4,a+1)\n",
    "    mdp.gridPlot(ax=pl.gca(), im=mdp.R[:,a].reshape((10,10)), title='a='+mdp.A[a], cmap='jet')\n",
    "pl.show()\n",
    "\n",
    "#Plot rewards\n",
    "pl.figure(figsize=(15,3))\n",
    "pl.suptitle('Rewards - clipped larger +ve values for visualizing the edges', fontsize=15)\n",
    "for a in range(4):\n",
    "    pl.subplot(1,4,a+1)\n",
    "    mdp.gridPlot(ax=pl.gca(), im=np.clip(mdp.R[:,a].reshape((10,10)), -1, -0.5), title='a='+mdp.A[a], cmap='jet')\n",
    "pl.show()\n",
    "\n",
    "#Plot rewards\n",
    "s0_x, s0_y = 3, 5\n",
    "s0 = mdp.xy2s(s0_x, s0_y)\n",
    "pl.figure(figsize=(15,3))\n",
    "pl.suptitle('Transition probabilities T(s1|s0=({},{}),a)'.format(s0_x, s0_y), fontsize=15)\n",
    "for a in range(4):\n",
    "    pl.subplot(1,4,a+1)\n",
    "    mdp.gridPlot(ax=pl.gca(), im=mdp.T[s0,a,:].reshape((10,10)), title='a='+mdp.A[a], cmap='Blues')\n",
    "pl.show()"
   ]
  },
  {
   "cell_type": "code",
   "execution_count": 11,
   "metadata": {},
   "outputs": [
    {
     "data": {
      "application/vnd.jupyter.widget-view+json": {
       "model_id": "69e5d03e60f646a79ad4dcb17e1c204c",
       "version_major": 2,
       "version_minor": 0
      },
      "text/plain": [
       "interactive(children=(Text(value='4', description='s0_x'), Text(value='5', description='s0_y'), ToggleButtons(…"
      ]
     },
     "metadata": {},
     "output_type": "display_data"
    }
   ],
   "source": [
    "#An interactive plot of transition probabilities\n",
    "def f(s0_x, s0_y, action):\n",
    "    a = mdp.A.index(action)\n",
    "    s0 = mdp.xy2s(int(s0_x), int(s0_y))\n",
    "    pl.figure(figsize=(6,6))\n",
    "    title = 'Transition probabilities T(s1|s0=({},{}),a={})'.format(int(s0_x),int(s0_y),action)\n",
    "    mdp.gridPlot(ax=pl.gca(), im=mdp.T[s0,a,:].reshape((10,10)), title=title, cmap='Blues')\n",
    "    pl.show()\n",
    "\n",
    "interactive_plot = interactive(f, s0_x='4', s0_y='5', action=widgets.ToggleButtons(options=['left', 'right', 'up', 'down']))\n",
    "interactive_plot"
   ]
  },
  {
   "cell_type": "markdown",
   "metadata": {},
   "source": [
    "### 1. Policy evaluation\n",
    "\n",
    "Computing the utility, U.\n",
    "\n",
    "$U^\\pi_k(s) = R(s, \\pi(s)) + \\gamma \\sum_{s'} T(s' \\mid s, \\pi(s))U^\\pi_{k-1}(s')$"
   ]
  },
  {
   "cell_type": "code",
   "execution_count": 12,
   "metadata": {},
   "outputs": [
    {
     "data": {
      "image/png": "[encoded data removed]",
      "text/plain": [
       "<Figure size 1080x216 with 8 Axes>"
      ]
     },
     "metadata": {
      "needs_background": "light"
     },
     "output_type": "display_data"
    }
   ],
   "source": [
    "def iterativePolicyEvaluation(mdp, policy, numIterations=10):\n",
    "    U = np.zeros(len(mdp.S))\n",
    "    U_old = copy.copy(U)\n",
    "    for t in range(numIterations):\n",
    "        for s0 in range(len(mdp.S)):\n",
    "            U[s0] = mdp.R[s0,policy] + mdp.discount*sum([mdp.T[s0,policy,s1]*U_old[s1] for s1 in mdp.S])\n",
    "            #U = map(s0 -> R(s0, policy(s0)) + discount*sum(s1 -> (T(s0, policy(s0), s1)*U[s1]), S), S)\n",
    "            #U[s0] = mdp['R'][s0,policy] + mdp['discount']*np.sum(mdp['T'][s0,policy,:]*U_old[:])\n",
    "        U_old = copy.copy(U)\n",
    "    return U\n",
    "\n",
    "numIterations = 5\n",
    "pl.figure(figsize=(15,3))\n",
    "pl.suptitle('Utilities', fontsize=15)\n",
    "for a in range(4):\n",
    "    pl.subplot(1,4,a+1)\n",
    "    U = iterativePolicyEvaluation(mdp=mdp, policy=a, numIterations=numIterations)\n",
    "    mdp.gridPlot(ax=pl.gca(), im=U.reshape(10,10), title='a='+mdp.A[a], cmap='jet')\n",
    "pl.show()\n",
    "#print(np.round(U.reshape(10,10),3))"
   ]
  },
  {
   "cell_type": "code",
   "execution_count": 19,
   "metadata": {},
   "outputs": [
    {
     "data": {
      "application/vnd.jupyter.widget-view+json": {
       "model_id": "63138a85920247038f38f6121fafd5b9",
       "version_major": 2,
       "version_minor": 0
      },
      "text/plain": [
       "interactive(children=(ToggleButtons(description='action', options=('left', 'right', 'up', 'down'), value='left…"
      ]
     },
     "metadata": {},
     "output_type": "display_data"
    }
   ],
   "source": [
    "def f(action, numIter=1):  \n",
    "    U = iterativePolicyEvaluation(mdp, policy=mdp.A.index(action), numIterations=numIter)\n",
    "    pl.figure(figsize=(3,3))\n",
    "    mdp.gridPlot(ax=pl.gca(), im=U.reshape(10,10), title='Utility', cmap='jet')\n",
    "    pl.show()\n",
    "\n",
    "interactive_plot = interactive(f, action=widgets.ToggleButtons(options=['left', 'right', 'up', 'down']),\n",
    "                               numIter=widgets.IntSlider(min=0, max=20, step=1, value=0))\n",
    "interactive_plot"
   ]
  },
  {
   "cell_type": "code",
   "execution_count": 20,
   "metadata": {},
   "outputs": [
    {
     "data": {
      "image/png": "[encoded data removed]",
      "text/plain": [
       "<Figure size 216x216 with 2 Axes>"
      ]
     },
     "metadata": {
      "needs_background": "light"
     },
     "output_type": "display_data"
    }
   ],
   "source": [
    "#Value iteration\n",
    "def valueIteration(mdp, numIterations=1):\n",
    "    U = np.zeros(len(mdp.S))\n",
    "    U_old = copy.copy(U)\n",
    "    for t in range(numIterations):\n",
    "        for s0 in range(len(mdp.S)):\n",
    "            U[s0] = max([mdp.R[s0,a] + mdp.discount*np.sum(mdp.T[s0,a,:]*U_old[:]) for a in np.arange(len(mdp.A))])\n",
    "        U_old = copy.copy(U)\n",
    "    return U\n",
    "\n",
    "def policyExtration(mdp, U):\n",
    "    policy = np.zeros(len(mdp.S))\n",
    "    for s0 in range(len(mdp.S)):\n",
    "        policy[s0] = np.argmax([mdp.R[s0,a] + mdp.discount*np.sum(mdp.T[s0,a,:]*U[:]) for a in np.arange(len(mdp.A))])\n",
    "    return policy\n",
    "\n",
    "U = valueIteration(mdp, numIterations=2)\n",
    "policy = policyExtration(mdp, U=U)\n",
    "pl.figure(figsize=(3,3))\n",
    "mdp.gridPlot(ax=pl.gca(), im=U.reshape(10,10), title='Utility', cmap='jet')\n",
    "for s in range(100):\n",
    "    x, y = mdp.s2xy(s)\n",
    "    if policy[s] == 0:\n",
    "        m='\\u02C2'\n",
    "    elif policy[s] == 1:\n",
    "        m='\\u02C3'\n",
    "    elif policy[s] == 2:\n",
    "        m='\\u02C4'\n",
    "    elif policy[s] == 3:\n",
    "        m='\\u02C5'\n",
    "    pl.text(x-0.5,y-1,m,color='k',size=20)\n",
    "pl.show()"
   ]
  },
  {
   "cell_type": "code",
   "execution_count": 22,
   "metadata": {},
   "outputs": [
    {
     "data": {
      "application/vnd.jupyter.widget-view+json": {
       "model_id": "ebcda33788ba481ea132eb66d17954c5",
       "version_major": 2,
       "version_minor": 0
      },
      "text/plain": [
       "interactive(children=(IntSlider(value=0, description='numIter', max=20), Output()), _dom_classes=('widget-inte…"
      ]
     },
     "metadata": {},
     "output_type": "display_data"
    }
   ],
   "source": [
    "def f(numIter=1):  \n",
    "    start_time = timeit.default_timer()\n",
    "    U = valueIteration(mdp, numIterations=numIter)\n",
    "    policy = policyExtration(mdp, U=U)\n",
    "    elapsed = timeit.default_timer() - start_time\n",
    "    print('time=', np.round(elapsed*1000,2))\n",
    "    pl.figure(figsize=(3,3))\n",
    "    mdp.gridPlot(ax=pl.gca(), im=U.reshape(10,10), title='Utility', cmap='jet')\n",
    "    for s in range(100):\n",
    "        x, y = mdp.s2xy(s)\n",
    "        if policy[s] == 0:\n",
    "            m='\\u02C2'\n",
    "        elif policy[s] == 1:\n",
    "            m='\\u02C3'\n",
    "        elif policy[s] == 2:\n",
    "            m='\\u02C4'\n",
    "        elif policy[s] == 3:\n",
    "            m='\\u02C5'\n",
    "        pl.text(x-0.5,y-1,m,color='k',size=20)\n",
    "    pl.show()\n",
    "\n",
    "interactive_plot = interactive(f, numIter=widgets.IntSlider(min=0, max=20, step=1, value=0))\n",
    "interactive_plot"
   ]
  },
  {
   "cell_type": "markdown",
   "metadata": {},
   "source": [
    "### 2. Policy iteration\n",
    "\n",
    "Policy evaluation can be used in policy iteration:\n",
    "1. Given the current policy, compute U\n",
    "2. Using U, compute a new policy"
   ]
  },
  {
   "cell_type": "code",
   "execution_count": 23,
   "metadata": {},
   "outputs": [],
   "source": [
    "def policyIteration(mdp, numIterations=1):\n",
    "    U_pi_k = np.zeros(len(mdp.S)) #initial values\n",
    "    pi_k = np.random.randint(low=0,high=4,size=len(mdp.S),dtype=int) #initial policy\n",
    "    pi_kp1 = copy.copy(pi_k)\n",
    "    for t in range(numIterations):\n",
    "        #Policy evaluation: compute U_pi_k\n",
    "        U_pi_k_temp = copy.copy(U_pi_k)\n",
    "        pi_k = copy.copy(pi_kp1)\n",
    "        for s0 in range(len(mdp.S)):\n",
    "            U_pi_k[s0] = mdp.R[s0,pi_k[s0]] + mdp.discount*np.sum(mdp.T[s0,pi_k[s0],:]*U_pi_k_temp[:])\n",
    "        #Policy improvement\n",
    "        for s0 in range(len(mdp.S)):\n",
    "            pi_kp1[s0] = np.argmax([mdp.R[s0,a] + mdp.discount*np.sum(mdp.T[s0,a,:]*U_pi_k[:]) for a in np.arange(len(mdp.A))])\n",
    "    return U_pi_k, pi_kp1\n",
    "\n",
    "U_pi_k, pi_kp1 = policyIteration(mdp, numIterations=2)"
   ]
  },
  {
   "cell_type": "code",
   "execution_count": 25,
   "metadata": {},
   "outputs": [
    {
     "data": {
      "application/vnd.jupyter.widget-view+json": {
       "model_id": "cee421beb3234a6c87a0bf2d48a4cdb0",
       "version_major": 2,
       "version_minor": 0
      },
      "text/plain": [
       "interactive(children=(IntSlider(value=0, description='numIter', max=20), Output()), _dom_classes=('widget-inte…"
      ]
     },
     "metadata": {},
     "output_type": "display_data"
    }
   ],
   "source": [
    "def f(numIter=1):  \n",
    "    start_time = timeit.default_timer()\n",
    "    # code you want to evaluate\n",
    "    value, policy = policyIteration(mdp, numIterations=numIter)\n",
    "    elapsed = timeit.default_timer() - start_time\n",
    "    print('time=', np.round(elapsed*1000,2))\n",
    "    pl.figure(figsize=(3,3))\n",
    "    mdp.gridPlot(ax=pl.gca(), im=value.reshape(10,10), title='Utility', cmap='jet')\n",
    "    for s in range(100):\n",
    "        x, y = mdp.s2xy(s)\n",
    "        if policy[s] == 0:\n",
    "            m='\\u02C2'\n",
    "        elif policy[s] == 1:\n",
    "            m='\\u02C3'\n",
    "        elif policy[s] == 2:\n",
    "            m='\\u02C4'\n",
    "        elif policy[s] == 3:\n",
    "            m='\\u02C5'\n",
    "        pl.text(x-0.5,y-1,m,color='k',size=20)\n",
    "    pl.show()\n",
    "\n",
    "interactive_plot = interactive(f, numIter=widgets.IntSlider(min=0, max=20, step=1, value=0))\n",
    "interactive_plot"
   ]
  },
  {
   "cell_type": "markdown",
   "metadata": {},
   "source": [
    "### 3. Q-learning\n",
    "\n",
    "This is a model-free reinforcement algorithm. \n",
    "\n",
    "Instead of using transition probabilities and rewards, use the observed next state.\n",
    "\n",
    "$Q(s,a) \\leftarrow Q(s,a) + \\alpha \\big( r + \\gamma \\max_{a'}Q(s',a') - Q(s,a) \\big)$\n",
    "\n",
    "1. Choose an action based on $Q$ and some exploration stratergy\n",
    "2. Observe new state and reward\n",
    "3. Update the new $Q$ values using the above equation\n",
    "\n"
   ]
  },
  {
   "cell_type": "code",
   "execution_count": null,
   "metadata": {},
   "outputs": [],
   "source": []
  }
 ],
 "metadata": {
  "@webio": {
   "lastCommId": "21E8675012EB469B8DD225E5191E1594",
   "lastKernelId": "ec90fbfa-47cf-4656-a1ce-4ca4670e6701"
  },
  "kernelspec": {
   "display_name": "Python 3",
   "language": "python",
   "name": "python3"
  },
  "language_info": {
   "codemirror_mode": {
    "name": "ipython",
    "version": 3
   },
   "file_extension": ".py",
   "mimetype": "text/x-python",
   "name": "python",
   "nbconvert_exporter": "python",
   "pygments_lexer": "ipython3",
   "version": "3.6.7"
  }
 },
 "nbformat": 4,
 "nbformat_minor": 2
}
