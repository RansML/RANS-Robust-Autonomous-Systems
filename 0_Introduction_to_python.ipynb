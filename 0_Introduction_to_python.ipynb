{
 "cells": [
  {
   "cell_type": "markdown",
   "metadata": {},
   "source": [
    "<center> <h1>Introduction to Python </h1> </center> "
   ]
  },
  {
   "cell_type": "markdown",
   "metadata": {},
   "source": [
    "Prepared by: Ransalu Senanayake \n",
    "\n",
    "**Instructions:**\n",
    "\n",
    "* We will be using python 3 for our tutorials. You can complete these exercies on an online Juyter notebook such as http://try.jupyter.org/. If you have installed Jupyter on your computer, you may run it locally on your computer.\n",
    "* Go to File->Open. Drag and drop \"intro.ipynb\" file to the middele of home interface and click upload. \n",
    "* To run a cell you can press Ctrl+Enter or hit the Play button at the top. \n",
    "\n",
    "---"
   ]
  },
  {
   "cell_type": "markdown",
   "metadata": {},
   "source": [
    "\n",
    "\n",
    "\n",
    "## 1. Numbers and Variable"
   ]
  },
  {
   "cell_type": "markdown",
   "metadata": {},
   "source": [
    "Example 1: integers\n",
    "\n",
    "\n",
    "```python\n",
    "x = 5\n",
    "``` \n",
    "indicates `5` is assigned to a variable named `x`."
   ]
  },
  {
   "cell_type": "code",
   "execution_count": 1,
   "metadata": {
    "collapsed": true
   },
   "outputs": [],
   "source": [
    "x = 12500"
   ]
  },
  {
   "cell_type": "code",
   "execution_count": 2,
   "metadata": {},
   "outputs": [
    {
     "name": "stdout",
     "output_type": "stream",
     "text": [
      "12500\n"
     ]
    }
   ],
   "source": [
    "print(x)"
   ]
  },
  {
   "cell_type": "markdown",
   "metadata": {},
   "source": [
    "Example 2: floating-point numbers"
   ]
  },
  {
   "cell_type": "code",
   "execution_count": 3,
   "metadata": {
    "collapsed": true
   },
   "outputs": [],
   "source": [
    "y = 12500.50"
   ]
  },
  {
   "cell_type": "code",
   "execution_count": 4,
   "metadata": {},
   "outputs": [
    {
     "name": "stdout",
     "output_type": "stream",
     "text": [
      "12500.5\n"
     ]
    }
   ],
   "source": [
    "print(y)"
   ]
  },
  {
   "cell_type": "markdown",
   "metadata": {},
   "source": [
    "Example 3: string"
   ]
  },
  {
   "cell_type": "code",
   "execution_count": 5,
   "metadata": {
    "collapsed": true
   },
   "outputs": [],
   "source": [
    "z = \"MI like Python\""
   ]
  },
  {
   "cell_type": "code",
   "execution_count": 6,
   "metadata": {},
   "outputs": [
    {
     "name": "stdout",
     "output_type": "stream",
     "text": [
      "MI like Python\n"
     ]
    }
   ],
   "source": [
    "print(z)"
   ]
  },
  {
   "cell_type": "markdown",
   "metadata": {},
   "source": [
    "## 2. Arithmetic Operators"
   ]
  },
  {
   "cell_type": "code",
   "execution_count": 7,
   "metadata": {},
   "outputs": [
    {
     "name": "stdout",
     "output_type": "stream",
     "text": [
      "13\n"
     ]
    }
   ],
   "source": [
    "x = 11\n",
    "y = 2\n",
    "z = x + y\n",
    "\n",
    "print(z) "
   ]
  },
  {
   "cell_type": "markdown",
   "metadata": {},
   "source": [
    "**Exercise 2.1**\n",
    "Identify the use of following arithmetic operators.  $+, -, *, /, **, \\% $"
   ]
  },
  {
   "cell_type": "markdown",
   "metadata": {},
   "source": [
    "## 3. Lists\n",
    "\n",
    "A list is a mutable, i.e. values can be changed (added/deleted/updated), sequence."
   ]
  },
  {
   "cell_type": "markdown",
   "metadata": {},
   "source": [
    "Example 1: a list  of integers/float"
   ]
  },
  {
   "cell_type": "code",
   "execution_count": 8,
   "metadata": {},
   "outputs": [
    {
     "name": "stdout",
     "output_type": "stream",
     "text": [
      "[2, 10, 20, 30, 50, 80, 130, 210, 340]\n"
     ]
    }
   ],
   "source": [
    "x = [2, 10, 20, 30, 50, 80, 130, 210, 340]\n",
    "\n",
    "print(x)"
   ]
  },
  {
   "cell_type": "markdown",
   "metadata": {},
   "source": [
    "Example 2: list of strings"
   ]
  },
  {
   "cell_type": "code",
   "execution_count": 9,
   "metadata": {},
   "outputs": [
    {
     "name": "stdout",
     "output_type": "stream",
     "text": [
      "['pad thai', 'phở', 'butter chicken', 'souvlaki', 'pizza']\n"
     ]
    }
   ],
   "source": [
    "my_lunch = ['pad thai', 'phở', 'butter chicken','souvlaki', 'pizza']\n",
    "\n",
    "print(my_lunch)"
   ]
  },
  {
   "cell_type": "markdown",
   "metadata": {
    "collapsed": true
   },
   "source": [
    "---"
   ]
  },
  {
   "cell_type": "markdown",
   "metadata": {},
   "source": [
    "We will be using different python modules/libraries thoughout this course. \n",
    "\n",
    "* NumPy - linear albegra (to deal with arrays and matrices)\n",
    "* Matplotlib - plotting\n",
    "* SciPy - scientific computing (i.e. optimization/management science, linear algebra)\n",
    "* StatsModels - statistics\n",
    "* Scikit-learn - data mining and machine learning\n",
    "* Pandas - data pre-processing\n",
    "* Keras - deep learning\n",
    "* Tensorflow - as the backend of Keras\n",
    "\n",
    "In order to use any module, firstly you need to import the module. \n",
    "\n",
    "```python\n",
    "import actual_module_name as abbreviation\n",
    "```\n",
    "\n",
    "E.g. \n",
    "```python\n",
    "import numpy as np\n",
    "```"
   ]
  },
  {
   "cell_type": "markdown",
   "metadata": {},
   "source": [
    "## 4. Numpy library"
   ]
  },
  {
   "cell_type": "markdown",
   "metadata": {},
   "source": [
    "Rather than learning generic python to manipulate python \"lists\", we will represent our data as arrays using the numpy module."
   ]
  },
  {
   "cell_type": "code",
   "execution_count": 10,
   "metadata": {
    "collapsed": true
   },
   "outputs": [],
   "source": [
    "import numpy as np"
   ]
  },
  {
   "cell_type": "code",
   "execution_count": 11,
   "metadata": {},
   "outputs": [],
   "source": [
    "x = np.array( [2, 10, 20, 30, 50, 80, 130, 210, 340] )"
   ]
  },
  {
   "cell_type": "code",
   "execution_count": 12,
   "metadata": {},
   "outputs": [
    {
     "name": "stdout",
     "output_type": "stream",
     "text": [
      "[  2  10  20  30  50  80 130 210 340]\n"
     ]
    }
   ],
   "source": [
    "print(x)"
   ]
  },
  {
   "cell_type": "markdown",
   "metadata": {},
   "source": [
    "The printed output looks similar to that of section 4. Nevertheless, representing the number list as a numpy array facilitate,\n",
    "\n",
    "**1) performing algebra**"
   ]
  },
  {
   "cell_type": "code",
   "execution_count": 13,
   "metadata": {},
   "outputs": [
    {
     "name": "stdout",
     "output_type": "stream",
     "text": [
      "[        3      -949     -7899    -26849   -124749   -511599  -2196349\n",
      "  -9259949 -39302299]\n"
     ]
    }
   ],
   "source": [
    "x = np.array( [2, 10, 20, 30, 50, 80, 130, 210, 340] )\n",
    "\n",
    "y = 5*x + 1 - x**3\n",
    "\n",
    "print(y)"
   ]
  },
  {
   "cell_type": "markdown",
   "metadata": {},
   "source": [
    "**2) using inbuilt numpy functions** such as getting the sum, average, etc. \n",
    "\n",
    "There are many such functions which you will learn over time. http://docs.scipy.org/doc/numpy/reference/routines.math.html"
   ]
  },
  {
   "cell_type": "code",
   "execution_count": 14,
   "metadata": {},
   "outputs": [
    {
     "name": "stdout",
     "output_type": "stream",
     "text": [
      "872\n"
     ]
    }
   ],
   "source": [
    "y = np.sum(x)\n",
    "\n",
    "print(y) "
   ]
  },
  {
   "cell_type": "code",
   "execution_count": 15,
   "metadata": {},
   "outputs": [
    {
     "name": "stdout",
     "output_type": "stream",
     "text": [
      "96.8888888889\n"
     ]
    }
   ],
   "source": [
    "y = np.average(x)\n",
    "\n",
    "print(y)"
   ]
  },
  {
   "cell_type": "markdown",
   "metadata": {},
   "source": [
    "**Exercise 4.1** Calculate z.\n",
    "\\begin{equation}\n",
    "    z = \\bar{x} + \\sum_{i=1}^{N} x_i^2 \n",
    "\\end{equation}"
   ]
  },
  {
   "cell_type": "code",
   "execution_count": 16,
   "metadata": {
    "collapsed": true
   },
   "outputs": [],
   "source": [
    "#ANSWER\n",
    "z = np.average(x) + np.sum(x**2) "
   ]
  },
  {
   "cell_type": "markdown",
   "metadata": {},
   "source": [
    "**Exercise 4.2** Let $x$ be a numpy array.\n",
    "```python\n",
    "x = np.array([1, 2, 3, 6, 9, 13])\n",
    "```\n",
    "Calculate $y_1, y_2, y_3$ and $y_1$.\n",
    "\n",
    "$$ y_1 = 2 x $$\n",
    "$$ y_2 = x^2 + 2 x + 1 $$\n",
    "$$ y_3 = \\log_{10} x$$\n",
    "$$ y_4 = \\sum_i e^{x_i} $$"
   ]
  },
  {
   "cell_type": "code",
   "execution_count": 17,
   "metadata": {},
   "outputs": [
    {
     "name": "stdout",
     "output_type": "stream",
     "text": [
      "[ 1  2  3  6  9 13]\n",
      "y1 =  [ 2  4  6 12 18 26]\n",
      "y2 =  [  4   9  16  49 100 196]\n",
      "y3 =  [ 0.          0.30103     0.47712125  0.77815125  0.95424251  1.11394335] \n",
      " and rounded y3 =  [ 0.      0.301   0.4771  0.7782  0.9542  1.1139]\n",
      "y4 =  450950.097605\n"
     ]
    }
   ],
   "source": [
    "#ANSWER\n",
    "x = np.array([1, 2, 3, 6, 9, 13])\n",
    "print(x)\n",
    "\n",
    "y1 = 2*x\n",
    "print( 'y1 = ', y1 )\n",
    "\n",
    "y2 = x**2 + 2*x + 1\n",
    "print( 'y2 = ',  y2 )\n",
    "\n",
    "y3 = np.log10(x)\n",
    "print('y3 = ',  y3, '\\n and rounded y3 = ',  np.round(y3, 4) )\n",
    "\n",
    "y4 = np.sum( np.exp(x) )\n",
    "print( 'y4 = ',  y4 )"
   ]
  },
  {
   "cell_type": "markdown",
   "metadata": {},
   "source": [
    " **Exercise 4.3** Eucledian distance (a.k.a $\\mathsf{L}^2$ distance) measures similarity between two vectors/arrays,\n",
    " \n",
    " $\\mathrm{distance}(\\mathbf{x,y})  = \\| \\mathbf{x} - \\mathbf{y}\\|_2 = \\sqrt{\\sum_{i=1}^{N} ( x_i - y_i)^2}$\n",
    " \n",
    " Calculate the Eucledian distance between the following two arrays."
   ]
  },
  {
   "cell_type": "code",
   "execution_count": 18,
   "metadata": {},
   "outputs": [
    {
     "name": "stdout",
     "output_type": "stream",
     "text": [
      "7.68114574787\n"
     ]
    }
   ],
   "source": [
    "#ANSWER\n",
    "x = np.array([3, 20, 5, -3])\n",
    "y = np.array([2, 20, -2, -6])\n",
    "\n",
    "distance = np.sqrt(np.sum((x-y)**2))\n",
    "print(distance)"
   ]
  },
  {
   "cell_type": "markdown",
   "metadata": {},
   "source": [
    "**3) slicing** numpy arrays\n",
    "\n",
    "Reading from left to right (note that we start counting from zero!),\n",
    "\n",
    "```python\n",
    "x = np.array([0th_element, 1st_element, 2nd_element, so on])\n",
    "```\n",
    "\n",
    "or reading from right to left,\n",
    "\n",
    "```python\n",
    "x = np.array([so on, -3rd_element, -2nd_element, -1st_elemnt])\n",
    "```"
   ]
  },
  {
   "cell_type": "code",
   "execution_count": 19,
   "metadata": {},
   "outputs": [
    {
     "name": "stdout",
     "output_type": "stream",
     "text": [
      "[ 3 20  5 -3]\n"
     ]
    }
   ],
   "source": [
    "print(x)"
   ]
  },
  {
   "cell_type": "code",
   "execution_count": 20,
   "metadata": {},
   "outputs": [
    {
     "name": "stdout",
     "output_type": "stream",
     "text": [
      "3\n"
     ]
    }
   ],
   "source": [
    "slice_1 = x[0] #0th element\n",
    "print(slice_1) "
   ]
  },
  {
   "cell_type": "code",
   "execution_count": 21,
   "metadata": {},
   "outputs": [
    {
     "name": "stdout",
     "output_type": "stream",
     "text": [
      "-3\n"
     ]
    }
   ],
   "source": [
    "slice_2 = x[3] #3rd element\n",
    "print(slice_2) "
   ]
  },
  {
   "cell_type": "code",
   "execution_count": 22,
   "metadata": {},
   "outputs": [
    {
     "name": "stdout",
     "output_type": "stream",
     "text": [
      "-3\n"
     ]
    }
   ],
   "source": [
    "slice_3 = x[-1] #-1st element\n",
    "print(slice_3) "
   ]
  },
  {
   "cell_type": "code",
   "execution_count": 23,
   "metadata": {},
   "outputs": [
    {
     "name": "stdout",
     "output_type": "stream",
     "text": [
      "[ 3 20  5]\n"
     ]
    }
   ],
   "source": [
    "slice_4 = x[0:3] #elements 0, 1 and 2\n",
    "print(slice_4)"
   ]
  },
  {
   "cell_type": "code",
   "execution_count": 24,
   "metadata": {},
   "outputs": [
    {
     "name": "stdout",
     "output_type": "stream",
     "text": [
      "[ 5 -3]\n"
     ]
    }
   ],
   "source": [
    "slice_5 = x[2:5] #elements 2, 3 and 4\n",
    "print(slice_5)"
   ]
  },
  {
   "cell_type": "markdown",
   "metadata": {},
   "source": [
    "**4) Automatically generating a sequence**"
   ]
  },
  {
   "cell_type": "code",
   "execution_count": 25,
   "metadata": {},
   "outputs": [
    {
     "name": "stdout",
     "output_type": "stream",
     "text": [
      "[0 1 2 3 4 5 6 7 8 9]\n"
     ]
    }
   ],
   "source": [
    "x = np.arange(0, 10, 1) #arguments are (start, stop, step); by default start is zero and step is 1\n",
    "print(x) "
   ]
  },
  {
   "cell_type": "code",
   "execution_count": 26,
   "metadata": {},
   "outputs": [
    {
     "name": "stdout",
     "output_type": "stream",
     "text": [
      "[0 1 2 3 4 5 6 7 8 9]\n"
     ]
    }
   ],
   "source": [
    "x2 = np.linspace(0, 10, 11) #arguments are (start, stop, number_of_elements)\n",
    "print(x) "
   ]
  },
  {
   "cell_type": "markdown",
   "metadata": {},
   "source": [
    "## 5. Plotting with Matplotlib Library"
   ]
  },
  {
   "cell_type": "markdown",
   "metadata": {},
   "source": [
    "Let us import the plotting module."
   ]
  },
  {
   "cell_type": "code",
   "execution_count": 27,
   "metadata": {
    "collapsed": true
   },
   "outputs": [],
   "source": [
    "import matplotlib.pyplot as pl\n",
    "%matplotlib inline"
   ]
  },
  {
   "cell_type": "markdown",
   "metadata": {},
   "source": [
    "### 5.1 Basic plotting"
   ]
  },
  {
   "cell_type": "code",
   "execution_count": 28,
   "metadata": {},
   "outputs": [
    {
     "data": {
      "image/png": "[encoded data removed]",
      "text/plain": [
       "<matplotlib.figure.Figure at 0x7f06752bff60>"
      ]
     },
     "metadata": {},
     "output_type": "display_data"
    }
   ],
   "source": [
    "#step 1: define your x and y arrays\n",
    "x = np.array([1, 2, 3, 4, 5, 6, 7])\n",
    "y = np.array([0, 0.1, 0.3, 0.2, 0.4, 0.5, 0.7]) #make sure x and y have the same number of elements\n",
    "\n",
    "#step 2: plot \n",
    "pl.scatter(x, y)\n",
    "\n",
    "#step 3 (optinal): decorate\n",
    "pl.title('My first plot!')\n",
    "pl.xlabel('x values')\n",
    "pl.ylabel('y values')\n",
    "pl.show()"
   ]
  },
  {
   "cell_type": "markdown",
   "metadata": {
    "collapsed": true
   },
   "source": [
    "**Exercise 5.1.1** Make the following changes.\n",
    "\n",
    "* Change the marker color to red.\n",
    "Hint: matplotlib.org/api/markers_api.html\n",
    "\n",
    "* Remove the marker edgecolor.\n",
    "\n",
    "* Increase the marker size.\n",
    "\n",
    "* Chnage the marker shape to square."
   ]
  },
  {
   "cell_type": "code",
   "execution_count": 29,
   "metadata": {},
   "outputs": [
    {
     "data": {
      "image/png": "[encoded data removed]",
      "text/plain": [
       "<matplotlib.figure.Figure at 0x7f06752bf828>"
      ]
     },
     "metadata": {},
     "output_type": "display_data"
    }
   ],
   "source": [
    "#ANSWER\n",
    "\n",
    "#step 2: plot \n",
    "pl.scatter(x, y, c='r', s=400, marker='s', edgecolor='b');"
   ]
  },
  {
   "cell_type": "markdown",
   "metadata": {},
   "source": [
    "**Exercise 6.1.2** Change the scatter plot to,\n",
    "\n",
    "1. line plot\n",
    "2. stem plot"
   ]
  },
  {
   "cell_type": "code",
   "execution_count": 30,
   "metadata": {},
   "outputs": [
    {
     "data": {
      "image/png": "[encoded data removed]",
      "text/plain": [
       "<matplotlib.figure.Figure at 0x7f0672f82438>"
      ]
     },
     "metadata": {},
     "output_type": "display_data"
    }
   ],
   "source": [
    "#Answer\n",
    "pl.plot(x, y, c='r');"
   ]
  },
  {
   "cell_type": "code",
   "execution_count": 31,
   "metadata": {},
   "outputs": [
    {
     "data": {
      "image/png": "[encoded data removed]",
      "text/plain": [
       "<matplotlib.figure.Figure at 0x7f0672f1e0b8>"
      ]
     },
     "metadata": {},
     "output_type": "display_data"
    }
   ],
   "source": [
    "#Answer\n",
    "pl.stem(x, y);"
   ]
  },
  {
   "cell_type": "markdown",
   "metadata": {},
   "source": [
    "### 5.2. Multiple plots on the same figure"
   ]
  },
  {
   "cell_type": "code",
   "execution_count": 32,
   "metadata": {},
   "outputs": [
    {
     "data": {
      "image/png": "[encoded data removed]",
      "text/plain": [
       "<matplotlib.figure.Figure at 0x7f0672ebb6d8>"
      ]
     },
     "metadata": {},
     "output_type": "display_data"
    }
   ],
   "source": [
    "#step 1: define your x and y arrays\n",
    "x = np.array([1, 2, 3, 4, 5, 6, 7])\n",
    "gbp_eur = np.array([1.28, 1.30, 1.30, 1.32, 1.22, 1.23, 1.22]) \n",
    "gbp_eur_predicted = np.array([1.28, 1.29, 1.30, 1.31, 1.32, 1.36, 1.37]) \n",
    "\n",
    "#step 2: plot \n",
    "pl.plot(x, gbp_eur, c='r', label='actual')\n",
    "pl.scatter(x, gbp_eur_predicted, c='b', label='predicted')\n",
    "\n",
    "#step 4: activate the legend and set its location\n",
    "pl.legend(loc='lower left')\n",
    "\n",
    "#step 3 (optinal): decorations \n",
    "pl.title('Effect of Brexit on GBP/EUR exchange rate')\n",
    "pl.xlabel('days of the week')\n",
    "pl.ylabel('GBP/EUR')\n",
    "pl.grid()\n",
    "pl.show()\n",
    "\n",
    "#Note: GBP/EUR = EUR per 1 GBP as in www.xe.com"
   ]
  },
  {
   "cell_type": "markdown",
   "metadata": {},
   "source": [
    "### 5.3. Subplots"
   ]
  },
  {
   "cell_type": "code",
   "execution_count": 33,
   "metadata": {
    "collapsed": true
   },
   "outputs": [],
   "source": [
    "day = np.array([1, 2, 3, 4, 5, 6, 7])\n",
    "eur_aud = np.array([1.25, 1.27, 1.20, 1.36, 1.25, 1.26, 1.31])\n",
    "eur_hkd = np.array([8.6, 8.7, 9.0, 9.0, 9.1, 9.0, 9.2])\n",
    "eur_lkr = np.array([150, 153, 160, 155, 156, 158, 161])"
   ]
  },
  {
   "cell_type": "code",
   "execution_count": 34,
   "metadata": {},
   "outputs": [
    {
     "data": {
      "image/png": "[encoded data removed]",
      "text/plain": [
       "<matplotlib.figure.Figure at 0x7f0672e5e3c8>"
      ]
     },
     "metadata": {},
     "output_type": "display_data"
    }
   ],
   "source": [
    "pl.figure(figsize=(15, 4)) #width, height in inches\n",
    "\n",
    "pl.subplot(1,3,1) #1 row, 3 columns, 1st plot\n",
    "pl.plot(day, eur_aud)\n",
    "pl.title('EUR/AUD Exchange Rate')\n",
    "pl.xlabel('Days of the week')\n",
    "pl.ylabel('EUR/AUD')\n",
    "pl.grid()\n",
    "\n",
    "pl.subplot(1,3,2) #1 row, 3 columns, 2nd plot\n",
    "pl.plot(day, eur_hkd)\n",
    "pl.title('EUR/HKD Exchange Rate')\n",
    "pl.xlabel('Days of the week')\n",
    "pl.ylabel('EUR/HKD')\n",
    "pl.grid()\n",
    "\n",
    "pl.subplot(1,3,3) #1 row, 3 columns, 3rd plot\n",
    "pl.plot(day, eur_lkr)\n",
    "pl.title('EUR/LKR Exchange Rate')\n",
    "pl.xlabel('Days of the week')\n",
    "pl.ylabel('EUR/LKR')\n",
    "pl.grid()"
   ]
  },
  {
   "cell_type": "markdown",
   "metadata": {
    "collapsed": true
   },
   "source": [
    "**Exercise 5.3.1** Create a figure of size $10^{\"} \\times 10^{\"}$. Plot the folowing four exchange rates on four different plots ($2 \\times 2$). Color actual exchange rates in red and predicyed exchange rates in blue."
   ]
  },
  {
   "cell_type": "code",
   "execution_count": 35,
   "metadata": {
    "collapsed": true
   },
   "outputs": [],
   "source": [
    "day = np.array([1, 2, 3, 4, 5, 6, 7])\n",
    "\n",
    "#actual exchange rates\n",
    "eur_aud = np.array([1.25, 1.27, 1.20, 1.36, 1.25, 1.26, 1.31])\n",
    "eur_hkd = np.array([8.6, 8.7, 9.0, 9.0, 9.1, 9.0, 9.2])\n",
    "eur_lkr = np.array([150, 153, 160, 155, 156, 158, 161])\n",
    "eur_usd = np.array([1.12, 1.13, 1.12, 1.14, 1.16, 1.17, 1.2])\n",
    "\n",
    "#predicted exchange rates\n",
    "eur_aud_pred = np.array([1.25, 1.26, 1.25, 1.35, 1.25, 1.26, 1.30])\n",
    "eur_hkd_pred = np.array([8.7, 8.6, 9.1, 9.1, 9.0, 9.0, 9.1])\n",
    "eur_lkr_pred = np.array([151, 162, 161, 163, 155, 158, 160])\n",
    "eur_usd_pred = np.array([1.11, 1.13, 1.13, 1.12, 1.17, 1.18, 1.21])"
   ]
  },
  {
   "cell_type": "code",
   "execution_count": 36,
   "metadata": {},
   "outputs": [
    {
     "data": {
      "image/png": "[encoded data removed]",
      "text/plain": [
       "<matplotlib.figure.Figure at 0x7f0672d28358>"
      ]
     },
     "metadata": {},
     "output_type": "display_data"
    }
   ],
   "source": [
    "#ANSWER\n",
    "pl.figure(figsize=(10, 10)) #width, height in inches\n",
    "\n",
    "pl.subplot(221) #1 row, 3 columns, 1st plot\n",
    "pl.plot(day, eur_aud, c='r', label='actual')\n",
    "pl.plot(day, eur_aud_pred, c='b', label='predicted')\n",
    "pl.legend(loc='lower right')\n",
    "pl.title('EUR/AUD Exchange Rate')\n",
    "pl.xlabel('Days of the week')\n",
    "pl.ylabel('EUR/AUD')\n",
    "pl.grid()\n",
    "\n",
    "pl.subplot(222) #1 row, 3 columns, 2nd plot\n",
    "pl.plot(day, eur_hkd, c='r', label='actual')\n",
    "pl.plot(day, eur_hkd_pred, c='b', label='predicted')\n",
    "pl.legend(loc='lower right')\n",
    "pl.title('EUR/HKD Exchange Rate')\n",
    "pl.xlabel('Days of the week')\n",
    "pl.ylabel('EUR/HKD')\n",
    "pl.grid()\n",
    "\n",
    "pl.subplot(223) #1 row, 3 columns, 3rd plot\n",
    "pl.plot(day, eur_lkr, c='r', label='actual')\n",
    "pl.plot(day, eur_lkr_pred, c='b', label='predicted')\n",
    "pl.legend(loc='lower right')\n",
    "pl.title('EUR/LKR Exchange Rate')\n",
    "pl.xlabel('Days of the week')\n",
    "pl.ylabel('EUR/LKR')\n",
    "pl.grid()\n",
    "\n",
    "pl.subplot(224) #1 row, 3 columns, 3rd plot\n",
    "pl.plot(day, eur_usd, c='r', label='actual')\n",
    "pl.plot(day, eur_usd_pred, c='b', label='predicted')\n",
    "pl.legend(loc='lower right')\n",
    "pl.title('EUR/USD Exchange Rate')\n",
    "pl.xlabel('Days of the week')\n",
    "pl.ylabel('EUR/USD')\n",
    "pl.grid()"
   ]
  },
  {
   "cell_type": "markdown",
   "metadata": {},
   "source": [
    "**Exercise** Use numpy to generate 500 equi-distance points between 0 and 10 and assign it to a variable $x$. Use `matplotlib.pyplot` to plot $y$ vs $x$ where,\n",
    "$$\n",
    "    y = \\frac{1}{\\sqrt{2 \\pi \\sigma^2}} \\exp{\\Big[ - \\frac{(x-\\mu)^2}{2 \\sigma^2} \\Big]}\n",
    "$$\n",
    "\n",
    "Initially, set $\\mu=0$ and $\\sigma^2=1$ (i.e. standard normal distribution)."
   ]
  },
  {
   "cell_type": "code",
   "execution_count": 37,
   "metadata": {},
   "outputs": [
    {
     "data": {
      "image/png": "[encoded data removed]",
      "text/plain": [
       "<matplotlib.figure.Figure at 0x7f0672d677b8>"
      ]
     },
     "metadata": {},
     "output_type": "display_data"
    }
   ],
   "source": [
    "import matplotlib.pyplot as pl\n",
    "%matplotlib inline\n",
    "\n",
    "x = np.linspace(-5, 5, 500)\n",
    "\n",
    "mu = 0\n",
    "sigma_sq = 1\n",
    "\n",
    "constant = 1/np.sqrt(2*np.pi*sigma_sq)\n",
    "y = constant * np.exp(- ((x-mu)**2) / (2*sigma_sq))\n",
    "\n",
    "pl.plot(x, y)\n",
    "pl.title('PDF of Normal Distribution')\n",
    "pl.grid()\n",
    "pl.show()"
   ]
  },
  {
   "cell_type": "markdown",
   "metadata": {},
   "source": [
    "## 6. Relational and Logical Operators\n",
    "\n",
    "Relational operators are used to identify the relationship between two entities (e.g. variables) and the output is either `True` or `False`.\n",
    "\n",
    "For instance, `20>10` in python (or in many other programming languages) means \"Is 20 greater than 10?\". The answer is `True`. Recall from tutoril 1 - section 2, we used three data types — integer, float and string. The data type whose values are always `True` or `False` is called Boolean data type."
   ]
  },
  {
   "cell_type": "code",
   "execution_count": 38,
   "metadata": {},
   "outputs": [
    {
     "name": "stdout",
     "output_type": "stream",
     "text": [
      "True\n"
     ]
    }
   ],
   "source": [
    "print(20>10)"
   ]
  },
  {
   "cell_type": "markdown",
   "metadata": {},
   "source": [
    "**Exercise**\n",
    "Identify the use of following relational operators.  $==, !=, >, <, >=, <=$"
   ]
  },
  {
   "cell_type": "markdown",
   "metadata": {},
   "source": [
    "Logical operators perform Boolean operations.\n",
    "\n",
    "* a `and` b - output is True only if BOTH a AND b are `True`\n",
    "* a `or` b - output is True if EITHER a OR b is `True`\n",
    "* `not` a - inverts the logic of a"
   ]
  },
  {
   "cell_type": "code",
   "execution_count": 39,
   "metadata": {},
   "outputs": [
    {
     "name": "stdout",
     "output_type": "stream",
     "text": [
      "False\n"
     ]
    }
   ],
   "source": [
    "x = 10\n",
    "\n",
    "print(x>20 and x<10) #Is x greater than 20 and x less than 10?"
   ]
  },
  {
   "cell_type": "markdown",
   "metadata": {},
   "source": [
    "## 7. Conditional Statements\n",
    "\n",
    "In condional statements, conditions/relations are checked from top to bottom and the first `True` condition is executed. \n",
    "\n",
    "```python\n",
    "if relation:\n",
    "    some code\n",
    "elif relation:\n",
    "    some code\n",
    "else:\n",
    "    some code\n",
    "```\n",
    "\n",
    "E.g. \n",
    "```python\n",
    "if y>0:      \n",
    "    print('y is positive')\n",
    "else:\n",
    "    print('y is not positive')\n",
    "```"
   ]
  },
  {
   "cell_type": "markdown",
   "metadata": {},
   "source": [
    "**Exercise** Let $y = 1.1 x^2 +15x - 20$. Write an `if-else` code as in the above example to check if y is positive or not for different $x$ values. E.g. \"Is $y>0$ when $x=2$?\""
   ]
  },
  {
   "cell_type": "code",
   "execution_count": 40,
   "metadata": {},
   "outputs": [
    {
     "name": "stdout",
     "output_type": "stream",
     "text": [
      "y is not positive\n"
     ]
    }
   ],
   "source": [
    "x = 2\n",
    "y = 1.1*(x**2) - 15*x - 20\n",
    "if y>0:      \n",
    "    print('y is positive')\n",
    "else:\n",
    "    print('y is not positive')"
   ]
  },
  {
   "cell_type": "markdown",
   "metadata": {},
   "source": [
    "**Exercise** Amend the answer for exercise 2.2 to print one of the following accordingly: \"y is zero\", \"y is positive\" or \"y is negative\"."
   ]
  },
  {
   "cell_type": "code",
   "execution_count": 41,
   "metadata": {},
   "outputs": [
    {
     "name": "stdout",
     "output_type": "stream",
     "text": [
      "y is negative\n"
     ]
    }
   ],
   "source": [
    "x = 2 \n",
    "y = 1.1*(x**2) - 15*x - 20\n",
    "if y==0:\n",
    "    print('y is zero')\n",
    "elif y>0:\n",
    "    print('y is positive')\n",
    "else:\n",
    "    print('y is negative')"
   ]
  },
  {
   "cell_type": "markdown",
   "metadata": {},
   "source": [
    "**Exercise** Write a program to check if an arbitrary number $x$ (say, $x=10$) is between $-15$ inclusive and $15$ exclusive and print the output \"In range!\" or \"Out of range!\"."
   ]
  },
  {
   "cell_type": "code",
   "execution_count": 42,
   "metadata": {},
   "outputs": [
    {
     "name": "stdout",
     "output_type": "stream",
     "text": [
      "In range!\n"
     ]
    }
   ],
   "source": [
    "x = 10\n",
    "\n",
    "if x>=-15 and x<15: #alternative: a<x<b\n",
    "    print('In range!')\n",
    "else:\n",
    "    print('Out of range!')"
   ]
  },
  {
   "cell_type": "markdown",
   "metadata": {},
   "source": [
    "## 8. Iterations\n",
    "\n",
    "Often you need to iterate through arrays. It can be easily accomplished using `for`-loops.\n",
    "\n",
    "```python\n",
    "for i in list_or_array:\n",
    "    code\n",
    "```\n"
   ]
  },
  {
   "cell_type": "code",
   "execution_count": 43,
   "metadata": {},
   "outputs": [
    {
     "name": "stdout",
     "output_type": "stream",
     "text": [
      "10.0\n",
      "20.0\n",
      "30.0\n",
      "-35.0\n",
      "5.5\n"
     ]
    }
   ],
   "source": [
    "x = np.array([10, 20, 30, -35, 5.5])\n",
    "\n",
    "for i in x:\n",
    "    print(i)"
   ]
  },
  {
   "cell_type": "code",
   "execution_count": 44,
   "metadata": {},
   "outputs": [
    {
     "name": "stdout",
     "output_type": "stream",
     "text": [
      "30.5\n"
     ]
    }
   ],
   "source": [
    "#Let us add numbers in the following array. \n",
    "\n",
    "x = np.array([10, 20, 30, -35, 5.5])\n",
    "\n",
    "sum_var = 0\n",
    "for i in x:\n",
    "    sum_var = sum_var + i\n",
    "    \n",
    "print(sum_var)"
   ]
  },
  {
   "cell_type": "markdown",
   "metadata": {},
   "source": [
    "In many cases, you have to run a for loop a specific number of times. In such cases, you can use one of the following. "
   ]
  },
  {
   "cell_type": "code",
   "execution_count": 45,
   "metadata": {},
   "outputs": [
    {
     "name": "stdout",
     "output_type": "stream",
     "text": [
      "0\n",
      "1\n",
      "2\n",
      "3\n",
      "4\n",
      "5\n",
      "6\n",
      "7\n",
      "8\n",
      "9\n"
     ]
    }
   ],
   "source": [
    "for i in np.arange(10): #alternative: np.arange(0,10,1)\n",
    "    print(i)"
   ]
  },
  {
   "cell_type": "code",
   "execution_count": 46,
   "metadata": {},
   "outputs": [
    {
     "name": "stdout",
     "output_type": "stream",
     "text": [
      "0\n",
      "1\n",
      "2\n",
      "3\n",
      "4\n",
      "5\n",
      "6\n",
      "7\n",
      "8\n",
      "9\n"
     ]
    }
   ],
   "source": [
    "for i in range(10): #alternative: range(0,10,1)\n",
    "    print(i)"
   ]
  },
  {
   "cell_type": "code",
   "execution_count": 47,
   "metadata": {},
   "outputs": [
    {
     "name": "stdout",
     "output_type": "stream",
     "text": [
      "0 10.0\n",
      "1 20.0\n",
      "2 30.0\n",
      "3 -35.0\n",
      "4 5.5\n"
     ]
    }
   ],
   "source": [
    "for i in np.arange(len(x)):\n",
    "    print(i, x[i]) "
   ]
  },
  {
   "cell_type": "code",
   "execution_count": 48,
   "metadata": {},
   "outputs": [
    {
     "name": "stdout",
     "output_type": "stream",
     "text": [
      "30.5\n"
     ]
    }
   ],
   "source": [
    "sum_var = 0\n",
    "for i in range(len(x)): \n",
    "    sum_var = sum_var + x[i] \n",
    "print(sum_var)"
   ]
  },
  {
   "cell_type": "markdown",
   "metadata": {},
   "source": [
    "**Exercise** Write a for loop and access $i^{th}$ pair of values $(x_i, y_i)$. In each iteration, print a message \"Both values are positive.\", if both values are positive."
   ]
  },
  {
   "cell_type": "code",
   "execution_count": 49,
   "metadata": {},
   "outputs": [
    {
     "name": "stdout",
     "output_type": "stream",
     "text": [
      "At least one value is not positive!\n",
      "Both values are positive.\n",
      "At least one value is not positive!\n",
      "At least one value is not positive!\n"
     ]
    }
   ],
   "source": [
    "x = np.array([3, 20, 5, -3])\n",
    "y = np.array([-2, 20, -2, -6])\n",
    "\n",
    "for i in range(len(x)):\n",
    "    if x[i]>0 and y[i]>0:\n",
    "        print('Both values are positive.')\n",
    "    else:\n",
    "        print('At least one value is not positive!')"
   ]
  },
  {
   "cell_type": "markdown",
   "metadata": {},
   "source": [
    "## 9. Functions\n",
    "\n",
    "What happens when you run `y = np.sum(x)` is a \"function\" named `sum` takes the input `x` and output the summation of all elements. This summation is assigned to y. If functions were not there, we might have to use a for loop everytime we want to obtain a summation, as in section 4. You can define your own functions, if you intend to use a particular piece of code frequently. \n",
    "\n",
    "We can define a function,\n",
    "```python\n",
    "def function_name(input1, input2, input3):\n",
    "    your code\n",
    "    return output1, output2\n",
    "```\n",
    "\n",
    "We can \"call\" a function,\n",
    "```python\n",
    "output1, output2 = function_name(input1, input2, input3)\n",
    "```\n",
    "\n",
    "You have \"called\" many such functions in Excel (formula)."
   ]
  },
  {
   "cell_type": "markdown",
   "metadata": {},
   "source": [
    "Let us put the piece of code used in exercise 1.3.1 inside a function and name it \"normal_pdf\". The intention of doing so is to generate outputs for different mean and variance values.\n",
    "E.g. `normal_pdf(x, 0, 1)`"
   ]
  },
  {
   "cell_type": "code",
   "execution_count": 50,
   "metadata": {
    "collapsed": true
   },
   "outputs": [],
   "source": [
    "def normal_pdf(x, mu, sigma_sq):\n",
    "    \n",
    "    constant = 1/np.sqrt(2*np.pi*sigma_sq)\n",
    "    y_pdf = constant * np.exp(- ((x-mu)**2) / (2*sigma_sq))\n",
    "    \n",
    "    return y_pdf"
   ]
  },
  {
   "cell_type": "code",
   "execution_count": 51,
   "metadata": {},
   "outputs": [
    {
     "data": {
      "image/png": "[encoded data removed]",
      "text/plain": [
       "<matplotlib.figure.Figure at 0x7f0672a36240>"
      ]
     },
     "metadata": {},
     "output_type": "display_data"
    }
   ],
   "source": [
    "mu_array = np.array([-2, -2, -2, 0, 0, 0])\n",
    "sigma_sq_array = np.array([1, 3, 10, 1, 3, 10])\n",
    "\n",
    "pl.figure(figsize=(10, 5))\n",
    "\n",
    "for i in range(len(mu_array)):\n",
    "    mu = mu_array[i]\n",
    "    sigma_sq = sigma_sq_array[i]\n",
    "       \n",
    "    x = np.linspace(-7 + mu, 7 + mu, 500)\n",
    "    \n",
    "    y = normal_pdf(x, mu, sigma_sq)\n",
    "\n",
    "    pl.plot(x, y, label='mean='+str(mu)+', var='+str(sigma_sq))\n",
    "\n",
    "pl.title('Normal Distribution')\n",
    "pl.legend(loc='upper right')\n",
    "pl.grid()\n",
    "pl.show()"
   ]
  },
  {
   "cell_type": "markdown",
   "metadata": {},
   "source": [
    "**Exercise** The cumulative distribution function (CDF) of the normal distribution is given by,\n",
    "\n",
    "$$\n",
    " y_{cdf} = \\frac{1}{2} \\Bigg[ 1 + \\mathrm{erf}\\Bigg( \\frac{x - \\mu}{\\sqrt{2 \\sigma^2}} \\Bigg) \\Bigg]\n",
    "$$\n",
    "\n",
    "where, in mathematics, $\\mathrm{erf}$ is called the \"error function\" which can be imported from scipy as,\n",
    "\n",
    "```python\n",
    "import scipy.special as sp\n",
    "sp.erf(z) #gives the error function value of z\n",
    "```\n",
    "\n",
    "Write a function called \"normal_pdf_cdf\" which takes input `(x, mu, sigma_sq)` and outputs `(y_pdf, y_cdf)`. Similar to the above example, call it in a for loop to plot both pdf and cdf for different vales of mu and sigma_sq. You make use `pl.subplot()`. A similar graph can be found in https://en.wikipedia.org/wiki/Normal_distribution (top-right)."
   ]
  },
  {
   "cell_type": "code",
   "execution_count": 52,
   "metadata": {
    "collapsed": true
   },
   "outputs": [],
   "source": [
    "import scipy.special as sp\n",
    "\n",
    "def normal_pdf_cdf(x, mu, sigma_sq):\n",
    "    \n",
    "    constant = 1/np.sqrt(2*np.pi*sigma_sq)\n",
    "    y_pdf = constant * np.exp(- ((x-mu)**2) / (2*sigma_sq))\n",
    "    \n",
    "    y_cdf = 0.5*( 1+sp.erf( (x-mu)/(np.sqrt(2*sigma_sq)) ) )\n",
    "    \n",
    "    return y_pdf, y_cdf"
   ]
  },
  {
   "cell_type": "code",
   "execution_count": 53,
   "metadata": {},
   "outputs": [
    {
     "data": {
      "image/png": "[encoded data removed]",
      "text/plain": [
       "<matplotlib.figure.Figure at 0x7f0672c004a8>"
      ]
     },
     "metadata": {},
     "output_type": "display_data"
    }
   ],
   "source": [
    "mu_array = np.array([-2, -2, -2, 0, 0, 0])\n",
    "sigma_sq_array = np.array([1, 3, 10, 1, 3, 10])\n",
    "\n",
    "pl.figure(figsize=(10, 10))\n",
    "\n",
    "for i in range(len(mu_array)):\n",
    "    mu = mu_array[i]\n",
    "    sigma_sq = sigma_sq_array[i]\n",
    "       \n",
    "    x = np.linspace(-7 + mu, 7 + mu, 500)\n",
    "    \n",
    "    y, y_cdf = normal_pdf_cdf(x, mu, sigma_sq)\n",
    "\n",
    "    pl.subplot(211)\n",
    "    pl.plot(x, y, linewidth=2, label='mean='+str(mu)+', var='+str(sigma_sq))\n",
    "    pl.subplot(212)\n",
    "    pl.plot(x, y_cdf, linewidth=2, label='mean='+str(mu)+', var='+str(sigma_sq))\n",
    "\n",
    "pl.subplot(211)\n",
    "pl.title('PDF of Normal Distribution')\n",
    "pl.legend(loc='upper left')\n",
    "pl.grid()\n",
    "\n",
    "pl.subplot(212)\n",
    "pl.title('CDF of Normal Distribution')\n",
    "pl.legend(loc='upper left')\n",
    "pl.grid()\n",
    "\n",
    "pl.show()"
   ]
  },
  {
   "cell_type": "markdown",
   "metadata": {},
   "source": [
    "## 10)  Using Pandas\n",
    "\n",
    "This library is typically used for importing and pre-processing data. "
   ]
  },
  {
   "cell_type": "code",
   "execution_count": 54,
   "metadata": {
    "collapsed": true
   },
   "outputs": [],
   "source": [
    "import pandas as pd"
   ]
  },
  {
   "cell_type": "markdown",
   "metadata": {},
   "source": [
    "Let us use pandas to read a comma-seperated values (.csv) file named \"Advertising.csv\" and assign it to a varable `advertising`."
   ]
  },
  {
   "cell_type": "code",
   "execution_count": 55,
   "metadata": {},
   "outputs": [],
   "source": [
    "advertising = pd.read_csv('Datasets/Advertising.csv')"
   ]
  },
  {
   "cell_type": "markdown",
   "metadata": {},
   "source": [
    "If you want to see the content, just use the name of the variable."
   ]
  },
  {
   "cell_type": "code",
   "execution_count": 56,
   "metadata": {},
   "outputs": [
    {
     "data": {
      "text/html": [
       "<div>\n",
       "<table border=\"1\" class=\"dataframe\">\n",
       "  <thead>\n",
       "    <tr style=\"text-align: right;\">\n",
       "      <th></th>\n",
       "      <th>Num</th>\n",
       "      <th>TV</th>\n",
       "      <th>Radio</th>\n",
       "      <th>Newspaper</th>\n",
       "      <th>Sales</th>\n",
       "    </tr>\n",
       "  </thead>\n",
       "  <tbody>\n",
       "    <tr>\n",
       "      <th>0</th>\n",
       "      <td>1</td>\n",
       "      <td>230.1</td>\n",
       "      <td>37.8</td>\n",
       "      <td>69.2</td>\n",
       "      <td>22.1</td>\n",
       "    </tr>\n",
       "    <tr>\n",
       "      <th>1</th>\n",
       "      <td>2</td>\n",
       "      <td>44.5</td>\n",
       "      <td>39.3</td>\n",
       "      <td>45.1</td>\n",
       "      <td>10.4</td>\n",
       "    </tr>\n",
       "    <tr>\n",
       "      <th>2</th>\n",
       "      <td>3</td>\n",
       "      <td>17.2</td>\n",
       "      <td>45.9</td>\n",
       "      <td>69.3</td>\n",
       "      <td>9.3</td>\n",
       "    </tr>\n",
       "    <tr>\n",
       "      <th>3</th>\n",
       "      <td>4</td>\n",
       "      <td>151.5</td>\n",
       "      <td>41.3</td>\n",
       "      <td>58.5</td>\n",
       "      <td>18.5</td>\n",
       "    </tr>\n",
       "    <tr>\n",
       "      <th>4</th>\n",
       "      <td>5</td>\n",
       "      <td>180.8</td>\n",
       "      <td>10.8</td>\n",
       "      <td>58.4</td>\n",
       "      <td>12.9</td>\n",
       "    </tr>\n",
       "    <tr>\n",
       "      <th>5</th>\n",
       "      <td>6</td>\n",
       "      <td>8.7</td>\n",
       "      <td>48.9</td>\n",
       "      <td>75.0</td>\n",
       "      <td>7.2</td>\n",
       "    </tr>\n",
       "    <tr>\n",
       "      <th>6</th>\n",
       "      <td>7</td>\n",
       "      <td>57.5</td>\n",
       "      <td>32.8</td>\n",
       "      <td>23.5</td>\n",
       "      <td>11.8</td>\n",
       "    </tr>\n",
       "    <tr>\n",
       "      <th>7</th>\n",
       "      <td>8</td>\n",
       "      <td>120.2</td>\n",
       "      <td>19.6</td>\n",
       "      <td>11.6</td>\n",
       "      <td>13.2</td>\n",
       "    </tr>\n",
       "    <tr>\n",
       "      <th>8</th>\n",
       "      <td>9</td>\n",
       "      <td>8.6</td>\n",
       "      <td>2.1</td>\n",
       "      <td>1.0</td>\n",
       "      <td>4.8</td>\n",
       "    </tr>\n",
       "    <tr>\n",
       "      <th>9</th>\n",
       "      <td>10</td>\n",
       "      <td>199.8</td>\n",
       "      <td>2.6</td>\n",
       "      <td>21.2</td>\n",
       "      <td>10.6</td>\n",
       "    </tr>\n",
       "    <tr>\n",
       "      <th>10</th>\n",
       "      <td>11</td>\n",
       "      <td>66.1</td>\n",
       "      <td>5.8</td>\n",
       "      <td>24.2</td>\n",
       "      <td>8.6</td>\n",
       "    </tr>\n",
       "    <tr>\n",
       "      <th>11</th>\n",
       "      <td>12</td>\n",
       "      <td>214.7</td>\n",
       "      <td>24.0</td>\n",
       "      <td>4.0</td>\n",
       "      <td>17.4</td>\n",
       "    </tr>\n",
       "    <tr>\n",
       "      <th>12</th>\n",
       "      <td>13</td>\n",
       "      <td>23.8</td>\n",
       "      <td>35.1</td>\n",
       "      <td>65.9</td>\n",
       "      <td>9.2</td>\n",
       "    </tr>\n",
       "    <tr>\n",
       "      <th>13</th>\n",
       "      <td>14</td>\n",
       "      <td>97.5</td>\n",
       "      <td>7.6</td>\n",
       "      <td>7.2</td>\n",
       "      <td>9.7</td>\n",
       "    </tr>\n",
       "    <tr>\n",
       "      <th>14</th>\n",
       "      <td>15</td>\n",
       "      <td>204.1</td>\n",
       "      <td>32.9</td>\n",
       "      <td>46.0</td>\n",
       "      <td>19.0</td>\n",
       "    </tr>\n",
       "    <tr>\n",
       "      <th>15</th>\n",
       "      <td>16</td>\n",
       "      <td>195.4</td>\n",
       "      <td>47.7</td>\n",
       "      <td>52.9</td>\n",
       "      <td>22.4</td>\n",
       "    </tr>\n",
       "    <tr>\n",
       "      <th>16</th>\n",
       "      <td>17</td>\n",
       "      <td>67.8</td>\n",
       "      <td>36.6</td>\n",
       "      <td>114.0</td>\n",
       "      <td>12.5</td>\n",
       "    </tr>\n",
       "    <tr>\n",
       "      <th>17</th>\n",
       "      <td>18</td>\n",
       "      <td>281.4</td>\n",
       "      <td>39.6</td>\n",
       "      <td>55.8</td>\n",
       "      <td>24.4</td>\n",
       "    </tr>\n",
       "    <tr>\n",
       "      <th>18</th>\n",
       "      <td>19</td>\n",
       "      <td>69.2</td>\n",
       "      <td>20.5</td>\n",
       "      <td>18.3</td>\n",
       "      <td>11.3</td>\n",
       "    </tr>\n",
       "    <tr>\n",
       "      <th>19</th>\n",
       "      <td>20</td>\n",
       "      <td>147.3</td>\n",
       "      <td>23.9</td>\n",
       "      <td>19.1</td>\n",
       "      <td>14.6</td>\n",
       "    </tr>\n",
       "    <tr>\n",
       "      <th>20</th>\n",
       "      <td>21</td>\n",
       "      <td>218.4</td>\n",
       "      <td>27.7</td>\n",
       "      <td>53.4</td>\n",
       "      <td>18.0</td>\n",
       "    </tr>\n",
       "    <tr>\n",
       "      <th>21</th>\n",
       "      <td>22</td>\n",
       "      <td>237.4</td>\n",
       "      <td>5.1</td>\n",
       "      <td>23.5</td>\n",
       "      <td>12.5</td>\n",
       "    </tr>\n",
       "    <tr>\n",
       "      <th>22</th>\n",
       "      <td>23</td>\n",
       "      <td>13.2</td>\n",
       "      <td>15.9</td>\n",
       "      <td>49.6</td>\n",
       "      <td>5.6</td>\n",
       "    </tr>\n",
       "    <tr>\n",
       "      <th>23</th>\n",
       "      <td>24</td>\n",
       "      <td>228.3</td>\n",
       "      <td>16.9</td>\n",
       "      <td>26.2</td>\n",
       "      <td>15.5</td>\n",
       "    </tr>\n",
       "    <tr>\n",
       "      <th>24</th>\n",
       "      <td>25</td>\n",
       "      <td>62.3</td>\n",
       "      <td>12.6</td>\n",
       "      <td>18.3</td>\n",
       "      <td>9.7</td>\n",
       "    </tr>\n",
       "    <tr>\n",
       "      <th>25</th>\n",
       "      <td>26</td>\n",
       "      <td>262.9</td>\n",
       "      <td>3.5</td>\n",
       "      <td>19.5</td>\n",
       "      <td>12.0</td>\n",
       "    </tr>\n",
       "    <tr>\n",
       "      <th>26</th>\n",
       "      <td>27</td>\n",
       "      <td>142.9</td>\n",
       "      <td>29.3</td>\n",
       "      <td>12.6</td>\n",
       "      <td>15.0</td>\n",
       "    </tr>\n",
       "    <tr>\n",
       "      <th>27</th>\n",
       "      <td>28</td>\n",
       "      <td>240.1</td>\n",
       "      <td>16.7</td>\n",
       "      <td>22.9</td>\n",
       "      <td>15.9</td>\n",
       "    </tr>\n",
       "    <tr>\n",
       "      <th>28</th>\n",
       "      <td>29</td>\n",
       "      <td>248.8</td>\n",
       "      <td>27.1</td>\n",
       "      <td>22.9</td>\n",
       "      <td>18.9</td>\n",
       "    </tr>\n",
       "    <tr>\n",
       "      <th>29</th>\n",
       "      <td>30</td>\n",
       "      <td>70.6</td>\n",
       "      <td>16.0</td>\n",
       "      <td>40.8</td>\n",
       "      <td>10.5</td>\n",
       "    </tr>\n",
       "    <tr>\n",
       "      <th>...</th>\n",
       "      <td>...</td>\n",
       "      <td>...</td>\n",
       "      <td>...</td>\n",
       "      <td>...</td>\n",
       "      <td>...</td>\n",
       "    </tr>\n",
       "    <tr>\n",
       "      <th>170</th>\n",
       "      <td>171</td>\n",
       "      <td>50.0</td>\n",
       "      <td>11.6</td>\n",
       "      <td>18.4</td>\n",
       "      <td>8.4</td>\n",
       "    </tr>\n",
       "    <tr>\n",
       "      <th>171</th>\n",
       "      <td>172</td>\n",
       "      <td>164.5</td>\n",
       "      <td>20.9</td>\n",
       "      <td>47.4</td>\n",
       "      <td>14.5</td>\n",
       "    </tr>\n",
       "    <tr>\n",
       "      <th>172</th>\n",
       "      <td>173</td>\n",
       "      <td>19.6</td>\n",
       "      <td>20.1</td>\n",
       "      <td>17.0</td>\n",
       "      <td>7.6</td>\n",
       "    </tr>\n",
       "    <tr>\n",
       "      <th>173</th>\n",
       "      <td>174</td>\n",
       "      <td>168.4</td>\n",
       "      <td>7.1</td>\n",
       "      <td>12.8</td>\n",
       "      <td>11.7</td>\n",
       "    </tr>\n",
       "    <tr>\n",
       "      <th>174</th>\n",
       "      <td>175</td>\n",
       "      <td>222.4</td>\n",
       "      <td>3.4</td>\n",
       "      <td>13.1</td>\n",
       "      <td>11.5</td>\n",
       "    </tr>\n",
       "    <tr>\n",
       "      <th>175</th>\n",
       "      <td>176</td>\n",
       "      <td>276.9</td>\n",
       "      <td>48.9</td>\n",
       "      <td>41.8</td>\n",
       "      <td>27.0</td>\n",
       "    </tr>\n",
       "    <tr>\n",
       "      <th>176</th>\n",
       "      <td>177</td>\n",
       "      <td>248.4</td>\n",
       "      <td>30.2</td>\n",
       "      <td>20.3</td>\n",
       "      <td>20.2</td>\n",
       "    </tr>\n",
       "    <tr>\n",
       "      <th>177</th>\n",
       "      <td>178</td>\n",
       "      <td>170.2</td>\n",
       "      <td>7.8</td>\n",
       "      <td>35.2</td>\n",
       "      <td>11.7</td>\n",
       "    </tr>\n",
       "    <tr>\n",
       "      <th>178</th>\n",
       "      <td>179</td>\n",
       "      <td>276.7</td>\n",
       "      <td>2.3</td>\n",
       "      <td>23.7</td>\n",
       "      <td>11.8</td>\n",
       "    </tr>\n",
       "    <tr>\n",
       "      <th>179</th>\n",
       "      <td>180</td>\n",
       "      <td>165.6</td>\n",
       "      <td>10.0</td>\n",
       "      <td>17.6</td>\n",
       "      <td>12.6</td>\n",
       "    </tr>\n",
       "    <tr>\n",
       "      <th>180</th>\n",
       "      <td>181</td>\n",
       "      <td>156.6</td>\n",
       "      <td>2.6</td>\n",
       "      <td>8.3</td>\n",
       "      <td>10.5</td>\n",
       "    </tr>\n",
       "    <tr>\n",
       "      <th>181</th>\n",
       "      <td>182</td>\n",
       "      <td>218.5</td>\n",
       "      <td>5.4</td>\n",
       "      <td>27.4</td>\n",
       "      <td>12.2</td>\n",
       "    </tr>\n",
       "    <tr>\n",
       "      <th>182</th>\n",
       "      <td>183</td>\n",
       "      <td>56.2</td>\n",
       "      <td>5.7</td>\n",
       "      <td>29.7</td>\n",
       "      <td>8.7</td>\n",
       "    </tr>\n",
       "    <tr>\n",
       "      <th>183</th>\n",
       "      <td>184</td>\n",
       "      <td>287.6</td>\n",
       "      <td>43.0</td>\n",
       "      <td>71.8</td>\n",
       "      <td>26.2</td>\n",
       "    </tr>\n",
       "    <tr>\n",
       "      <th>184</th>\n",
       "      <td>185</td>\n",
       "      <td>253.8</td>\n",
       "      <td>21.3</td>\n",
       "      <td>30.0</td>\n",
       "      <td>17.6</td>\n",
       "    </tr>\n",
       "    <tr>\n",
       "      <th>185</th>\n",
       "      <td>186</td>\n",
       "      <td>205.0</td>\n",
       "      <td>45.1</td>\n",
       "      <td>19.6</td>\n",
       "      <td>22.6</td>\n",
       "    </tr>\n",
       "    <tr>\n",
       "      <th>186</th>\n",
       "      <td>187</td>\n",
       "      <td>139.5</td>\n",
       "      <td>2.1</td>\n",
       "      <td>26.6</td>\n",
       "      <td>10.3</td>\n",
       "    </tr>\n",
       "    <tr>\n",
       "      <th>187</th>\n",
       "      <td>188</td>\n",
       "      <td>191.1</td>\n",
       "      <td>28.7</td>\n",
       "      <td>18.2</td>\n",
       "      <td>17.3</td>\n",
       "    </tr>\n",
       "    <tr>\n",
       "      <th>188</th>\n",
       "      <td>189</td>\n",
       "      <td>286.0</td>\n",
       "      <td>13.9</td>\n",
       "      <td>3.7</td>\n",
       "      <td>15.9</td>\n",
       "    </tr>\n",
       "    <tr>\n",
       "      <th>189</th>\n",
       "      <td>190</td>\n",
       "      <td>18.7</td>\n",
       "      <td>12.1</td>\n",
       "      <td>23.4</td>\n",
       "      <td>6.7</td>\n",
       "    </tr>\n",
       "    <tr>\n",
       "      <th>190</th>\n",
       "      <td>191</td>\n",
       "      <td>39.5</td>\n",
       "      <td>41.1</td>\n",
       "      <td>5.8</td>\n",
       "      <td>10.8</td>\n",
       "    </tr>\n",
       "    <tr>\n",
       "      <th>191</th>\n",
       "      <td>192</td>\n",
       "      <td>75.5</td>\n",
       "      <td>10.8</td>\n",
       "      <td>6.0</td>\n",
       "      <td>9.9</td>\n",
       "    </tr>\n",
       "    <tr>\n",
       "      <th>192</th>\n",
       "      <td>193</td>\n",
       "      <td>17.2</td>\n",
       "      <td>4.1</td>\n",
       "      <td>31.6</td>\n",
       "      <td>5.9</td>\n",
       "    </tr>\n",
       "    <tr>\n",
       "      <th>193</th>\n",
       "      <td>194</td>\n",
       "      <td>166.8</td>\n",
       "      <td>42.0</td>\n",
       "      <td>3.6</td>\n",
       "      <td>19.6</td>\n",
       "    </tr>\n",
       "    <tr>\n",
       "      <th>194</th>\n",
       "      <td>195</td>\n",
       "      <td>149.7</td>\n",
       "      <td>35.6</td>\n",
       "      <td>6.0</td>\n",
       "      <td>17.3</td>\n",
       "    </tr>\n",
       "    <tr>\n",
       "      <th>195</th>\n",
       "      <td>196</td>\n",
       "      <td>38.2</td>\n",
       "      <td>3.7</td>\n",
       "      <td>13.8</td>\n",
       "      <td>7.6</td>\n",
       "    </tr>\n",
       "    <tr>\n",
       "      <th>196</th>\n",
       "      <td>197</td>\n",
       "      <td>94.2</td>\n",
       "      <td>4.9</td>\n",
       "      <td>8.1</td>\n",
       "      <td>9.7</td>\n",
       "    </tr>\n",
       "    <tr>\n",
       "      <th>197</th>\n",
       "      <td>198</td>\n",
       "      <td>177.0</td>\n",
       "      <td>9.3</td>\n",
       "      <td>6.4</td>\n",
       "      <td>12.8</td>\n",
       "    </tr>\n",
       "    <tr>\n",
       "      <th>198</th>\n",
       "      <td>199</td>\n",
       "      <td>283.6</td>\n",
       "      <td>42.0</td>\n",
       "      <td>66.2</td>\n",
       "      <td>25.5</td>\n",
       "    </tr>\n",
       "    <tr>\n",
       "      <th>199</th>\n",
       "      <td>200</td>\n",
       "      <td>232.1</td>\n",
       "      <td>8.6</td>\n",
       "      <td>8.7</td>\n",
       "      <td>13.4</td>\n",
       "    </tr>\n",
       "  </tbody>\n",
       "</table>\n",
       "<p>200 rows × 5 columns</p>\n",
       "</div>"
      ],
      "text/plain": [
       "     Num     TV  Radio  Newspaper  Sales\n",
       "0      1  230.1   37.8       69.2   22.1\n",
       "1      2   44.5   39.3       45.1   10.4\n",
       "2      3   17.2   45.9       69.3    9.3\n",
       "3      4  151.5   41.3       58.5   18.5\n",
       "4      5  180.8   10.8       58.4   12.9\n",
       "5      6    8.7   48.9       75.0    7.2\n",
       "6      7   57.5   32.8       23.5   11.8\n",
       "7      8  120.2   19.6       11.6   13.2\n",
       "8      9    8.6    2.1        1.0    4.8\n",
       "9     10  199.8    2.6       21.2   10.6\n",
       "10    11   66.1    5.8       24.2    8.6\n",
       "11    12  214.7   24.0        4.0   17.4\n",
       "12    13   23.8   35.1       65.9    9.2\n",
       "13    14   97.5    7.6        7.2    9.7\n",
       "14    15  204.1   32.9       46.0   19.0\n",
       "15    16  195.4   47.7       52.9   22.4\n",
       "16    17   67.8   36.6      114.0   12.5\n",
       "17    18  281.4   39.6       55.8   24.4\n",
       "18    19   69.2   20.5       18.3   11.3\n",
       "19    20  147.3   23.9       19.1   14.6\n",
       "20    21  218.4   27.7       53.4   18.0\n",
       "21    22  237.4    5.1       23.5   12.5\n",
       "22    23   13.2   15.9       49.6    5.6\n",
       "23    24  228.3   16.9       26.2   15.5\n",
       "24    25   62.3   12.6       18.3    9.7\n",
       "25    26  262.9    3.5       19.5   12.0\n",
       "26    27  142.9   29.3       12.6   15.0\n",
       "27    28  240.1   16.7       22.9   15.9\n",
       "28    29  248.8   27.1       22.9   18.9\n",
       "29    30   70.6   16.0       40.8   10.5\n",
       "..   ...    ...    ...        ...    ...\n",
       "170  171   50.0   11.6       18.4    8.4\n",
       "171  172  164.5   20.9       47.4   14.5\n",
       "172  173   19.6   20.1       17.0    7.6\n",
       "173  174  168.4    7.1       12.8   11.7\n",
       "174  175  222.4    3.4       13.1   11.5\n",
       "175  176  276.9   48.9       41.8   27.0\n",
       "176  177  248.4   30.2       20.3   20.2\n",
       "177  178  170.2    7.8       35.2   11.7\n",
       "178  179  276.7    2.3       23.7   11.8\n",
       "179  180  165.6   10.0       17.6   12.6\n",
       "180  181  156.6    2.6        8.3   10.5\n",
       "181  182  218.5    5.4       27.4   12.2\n",
       "182  183   56.2    5.7       29.7    8.7\n",
       "183  184  287.6   43.0       71.8   26.2\n",
       "184  185  253.8   21.3       30.0   17.6\n",
       "185  186  205.0   45.1       19.6   22.6\n",
       "186  187  139.5    2.1       26.6   10.3\n",
       "187  188  191.1   28.7       18.2   17.3\n",
       "188  189  286.0   13.9        3.7   15.9\n",
       "189  190   18.7   12.1       23.4    6.7\n",
       "190  191   39.5   41.1        5.8   10.8\n",
       "191  192   75.5   10.8        6.0    9.9\n",
       "192  193   17.2    4.1       31.6    5.9\n",
       "193  194  166.8   42.0        3.6   19.6\n",
       "194  195  149.7   35.6        6.0   17.3\n",
       "195  196   38.2    3.7       13.8    7.6\n",
       "196  197   94.2    4.9        8.1    9.7\n",
       "197  198  177.0    9.3        6.4   12.8\n",
       "198  199  283.6   42.0       66.2   25.5\n",
       "199  200  232.1    8.6        8.7   13.4\n",
       "\n",
       "[200 rows x 5 columns]"
      ]
     },
     "execution_count": 56,
     "metadata": {},
     "output_type": "execute_result"
    }
   ],
   "source": [
    "advertising"
   ]
  },
  {
   "cell_type": "markdown",
   "metadata": {},
   "source": [
    "There are many other such methods. Type \"`advertising.`\" (with dot, without quotation marks) and then press the Tab key to see the full list of methods.\n",
    "\n",
    "* Example: `advertising.head(N)` prints the first N rows. \n",
    "    ```python\n",
    "    advertising.head(3)\n",
    "    ```\n",
    " \n",
    "* Example: `advertising.tail(N)` prints the last N rows. \n",
    "\n",
    "* Example: `advertising.columns` prints all column names."
   ]
  },
  {
   "cell_type": "code",
   "execution_count": 57,
   "metadata": {},
   "outputs": [
    {
     "data": {
      "text/html": [
       "<div>\n",
       "<table border=\"1\" class=\"dataframe\">\n",
       "  <thead>\n",
       "    <tr style=\"text-align: right;\">\n",
       "      <th></th>\n",
       "      <th>Num</th>\n",
       "      <th>TV</th>\n",
       "      <th>Radio</th>\n",
       "      <th>Newspaper</th>\n",
       "      <th>Sales</th>\n",
       "    </tr>\n",
       "  </thead>\n",
       "  <tbody>\n",
       "    <tr>\n",
       "      <th>0</th>\n",
       "      <td>1</td>\n",
       "      <td>230.1</td>\n",
       "      <td>37.8</td>\n",
       "      <td>69.2</td>\n",
       "      <td>22.1</td>\n",
       "    </tr>\n",
       "    <tr>\n",
       "      <th>1</th>\n",
       "      <td>2</td>\n",
       "      <td>44.5</td>\n",
       "      <td>39.3</td>\n",
       "      <td>45.1</td>\n",
       "      <td>10.4</td>\n",
       "    </tr>\n",
       "    <tr>\n",
       "      <th>2</th>\n",
       "      <td>3</td>\n",
       "      <td>17.2</td>\n",
       "      <td>45.9</td>\n",
       "      <td>69.3</td>\n",
       "      <td>9.3</td>\n",
       "    </tr>\n",
       "    <tr>\n",
       "      <th>3</th>\n",
       "      <td>4</td>\n",
       "      <td>151.5</td>\n",
       "      <td>41.3</td>\n",
       "      <td>58.5</td>\n",
       "      <td>18.5</td>\n",
       "    </tr>\n",
       "    <tr>\n",
       "      <th>4</th>\n",
       "      <td>5</td>\n",
       "      <td>180.8</td>\n",
       "      <td>10.8</td>\n",
       "      <td>58.4</td>\n",
       "      <td>12.9</td>\n",
       "    </tr>\n",
       "  </tbody>\n",
       "</table>\n",
       "</div>"
      ],
      "text/plain": [
       "   Num     TV  Radio  Newspaper  Sales\n",
       "0    1  230.1   37.8       69.2   22.1\n",
       "1    2   44.5   39.3       45.1   10.4\n",
       "2    3   17.2   45.9       69.3    9.3\n",
       "3    4  151.5   41.3       58.5   18.5\n",
       "4    5  180.8   10.8       58.4   12.9"
      ]
     },
     "execution_count": 57,
     "metadata": {},
     "output_type": "execute_result"
    }
   ],
   "source": [
    "advertising.head() #shows all columns and the first five rows"
   ]
  },
  {
   "cell_type": "code",
   "execution_count": 58,
   "metadata": {},
   "outputs": [
    {
     "data": {
      "text/html": [
       "<div>\n",
       "<table border=\"1\" class=\"dataframe\">\n",
       "  <thead>\n",
       "    <tr style=\"text-align: right;\">\n",
       "      <th></th>\n",
       "      <th>Num</th>\n",
       "      <th>TV</th>\n",
       "      <th>Radio</th>\n",
       "      <th>Newspaper</th>\n",
       "      <th>Sales</th>\n",
       "    </tr>\n",
       "  </thead>\n",
       "  <tbody>\n",
       "    <tr>\n",
       "      <th>195</th>\n",
       "      <td>196</td>\n",
       "      <td>38.2</td>\n",
       "      <td>3.7</td>\n",
       "      <td>13.8</td>\n",
       "      <td>7.6</td>\n",
       "    </tr>\n",
       "    <tr>\n",
       "      <th>196</th>\n",
       "      <td>197</td>\n",
       "      <td>94.2</td>\n",
       "      <td>4.9</td>\n",
       "      <td>8.1</td>\n",
       "      <td>9.7</td>\n",
       "    </tr>\n",
       "    <tr>\n",
       "      <th>197</th>\n",
       "      <td>198</td>\n",
       "      <td>177.0</td>\n",
       "      <td>9.3</td>\n",
       "      <td>6.4</td>\n",
       "      <td>12.8</td>\n",
       "    </tr>\n",
       "    <tr>\n",
       "      <th>198</th>\n",
       "      <td>199</td>\n",
       "      <td>283.6</td>\n",
       "      <td>42.0</td>\n",
       "      <td>66.2</td>\n",
       "      <td>25.5</td>\n",
       "    </tr>\n",
       "    <tr>\n",
       "      <th>199</th>\n",
       "      <td>200</td>\n",
       "      <td>232.1</td>\n",
       "      <td>8.6</td>\n",
       "      <td>8.7</td>\n",
       "      <td>13.4</td>\n",
       "    </tr>\n",
       "  </tbody>\n",
       "</table>\n",
       "</div>"
      ],
      "text/plain": [
       "     Num     TV  Radio  Newspaper  Sales\n",
       "195  196   38.2    3.7       13.8    7.6\n",
       "196  197   94.2    4.9        8.1    9.7\n",
       "197  198  177.0    9.3        6.4   12.8\n",
       "198  199  283.6   42.0       66.2   25.5\n",
       "199  200  232.1    8.6        8.7   13.4"
      ]
     },
     "execution_count": 58,
     "metadata": {},
     "output_type": "execute_result"
    }
   ],
   "source": [
    "advertising.tail() #shows all columns and the last five rows"
   ]
  },
  {
   "cell_type": "code",
   "execution_count": 59,
   "metadata": {},
   "outputs": [
    {
     "data": {
      "text/html": [
       "<div>\n",
       "<table border=\"1\" class=\"dataframe\">\n",
       "  <thead>\n",
       "    <tr style=\"text-align: right;\">\n",
       "      <th></th>\n",
       "      <th>Num</th>\n",
       "      <th>TV</th>\n",
       "      <th>Radio</th>\n",
       "      <th>Newspaper</th>\n",
       "      <th>Sales</th>\n",
       "    </tr>\n",
       "  </thead>\n",
       "  <tbody>\n",
       "    <tr>\n",
       "      <th>0</th>\n",
       "      <td>1</td>\n",
       "      <td>230.1</td>\n",
       "      <td>37.8</td>\n",
       "      <td>69.2</td>\n",
       "      <td>22.1</td>\n",
       "    </tr>\n",
       "    <tr>\n",
       "      <th>1</th>\n",
       "      <td>2</td>\n",
       "      <td>44.5</td>\n",
       "      <td>39.3</td>\n",
       "      <td>45.1</td>\n",
       "      <td>10.4</td>\n",
       "    </tr>\n",
       "    <tr>\n",
       "      <th>2</th>\n",
       "      <td>3</td>\n",
       "      <td>17.2</td>\n",
       "      <td>45.9</td>\n",
       "      <td>69.3</td>\n",
       "      <td>9.3</td>\n",
       "    </tr>\n",
       "  </tbody>\n",
       "</table>\n",
       "</div>"
      ],
      "text/plain": [
       "   Num     TV  Radio  Newspaper  Sales\n",
       "0    1  230.1   37.8       69.2   22.1\n",
       "1    2   44.5   39.3       45.1   10.4\n",
       "2    3   17.2   45.9       69.3    9.3"
      ]
     },
     "execution_count": 59,
     "metadata": {},
     "output_type": "execute_result"
    }
   ],
   "source": [
    "advertising.head(3) #shows all columns and a specific number of rows"
   ]
  },
  {
   "cell_type": "markdown",
   "metadata": {},
   "source": [
    "**Exercise** Specify the index column"
   ]
  },
  {
   "cell_type": "code",
   "execution_count": 60,
   "metadata": {},
   "outputs": [
    {
     "data": {
      "text/html": [
       "<div>\n",
       "<table border=\"1\" class=\"dataframe\">\n",
       "  <thead>\n",
       "    <tr style=\"text-align: right;\">\n",
       "      <th></th>\n",
       "      <th>TV</th>\n",
       "      <th>Radio</th>\n",
       "      <th>Newspaper</th>\n",
       "      <th>Sales</th>\n",
       "    </tr>\n",
       "    <tr>\n",
       "      <th>Num</th>\n",
       "      <th></th>\n",
       "      <th></th>\n",
       "      <th></th>\n",
       "      <th></th>\n",
       "    </tr>\n",
       "  </thead>\n",
       "  <tbody>\n",
       "    <tr>\n",
       "      <th>1</th>\n",
       "      <td>230.1</td>\n",
       "      <td>37.8</td>\n",
       "      <td>69.2</td>\n",
       "      <td>22.1</td>\n",
       "    </tr>\n",
       "    <tr>\n",
       "      <th>2</th>\n",
       "      <td>44.5</td>\n",
       "      <td>39.3</td>\n",
       "      <td>45.1</td>\n",
       "      <td>10.4</td>\n",
       "    </tr>\n",
       "    <tr>\n",
       "      <th>3</th>\n",
       "      <td>17.2</td>\n",
       "      <td>45.9</td>\n",
       "      <td>69.3</td>\n",
       "      <td>9.3</td>\n",
       "    </tr>\n",
       "    <tr>\n",
       "      <th>4</th>\n",
       "      <td>151.5</td>\n",
       "      <td>41.3</td>\n",
       "      <td>58.5</td>\n",
       "      <td>18.5</td>\n",
       "    </tr>\n",
       "    <tr>\n",
       "      <th>5</th>\n",
       "      <td>180.8</td>\n",
       "      <td>10.8</td>\n",
       "      <td>58.4</td>\n",
       "      <td>12.9</td>\n",
       "    </tr>\n",
       "  </tbody>\n",
       "</table>\n",
       "</div>"
      ],
      "text/plain": [
       "        TV  Radio  Newspaper  Sales\n",
       "Num                                \n",
       "1    230.1   37.8       69.2   22.1\n",
       "2     44.5   39.3       45.1   10.4\n",
       "3     17.2   45.9       69.3    9.3\n",
       "4    151.5   41.3       58.5   18.5\n",
       "5    180.8   10.8       58.4   12.9"
      ]
     },
     "execution_count": 60,
     "metadata": {},
     "output_type": "execute_result"
    }
   ],
   "source": [
    "advertising = pd.read_csv('Datasets/Advertising.csv', index_col='Num')\n",
    "advertising.head()"
   ]
  },
  {
   "cell_type": "markdown",
   "metadata": {},
   "source": [
    "**Exercise** Import the columns 0 and 2, do not import any other column. \n",
    "\n",
    "Hint:  `usecols=[0, 2]` as an argument of read_csv()."
   ]
  },
  {
   "cell_type": "code",
   "execution_count": 61,
   "metadata": {},
   "outputs": [
    {
     "data": {
      "text/html": [
       "<div>\n",
       "<table border=\"1\" class=\"dataframe\">\n",
       "  <thead>\n",
       "    <tr style=\"text-align: right;\">\n",
       "      <th></th>\n",
       "      <th>Radio</th>\n",
       "    </tr>\n",
       "    <tr>\n",
       "      <th>Num</th>\n",
       "      <th></th>\n",
       "    </tr>\n",
       "  </thead>\n",
       "  <tbody>\n",
       "    <tr>\n",
       "      <th>1</th>\n",
       "      <td>37.8</td>\n",
       "    </tr>\n",
       "    <tr>\n",
       "      <th>2</th>\n",
       "      <td>39.3</td>\n",
       "    </tr>\n",
       "    <tr>\n",
       "      <th>3</th>\n",
       "      <td>45.9</td>\n",
       "    </tr>\n",
       "    <tr>\n",
       "      <th>4</th>\n",
       "      <td>41.3</td>\n",
       "    </tr>\n",
       "    <tr>\n",
       "      <th>5</th>\n",
       "      <td>10.8</td>\n",
       "    </tr>\n",
       "  </tbody>\n",
       "</table>\n",
       "</div>"
      ],
      "text/plain": [
       "     Radio\n",
       "Num       \n",
       "1     37.8\n",
       "2     39.3\n",
       "3     45.9\n",
       "4     41.3\n",
       "5     10.8"
      ]
     },
     "execution_count": 61,
     "metadata": {},
     "output_type": "execute_result"
    }
   ],
   "source": [
    "#Answer\n",
    "advertising_few_cols = pd.read_csv('Datasets/Advertising.csv', usecols=[0, 2], index_col='Num')\n",
    "advertising_few_cols.head()"
   ]
  },
  {
   "cell_type": "markdown",
   "metadata": {},
   "source": [
    "Use `.info()` to see information of our dataset. What is float64?"
   ]
  },
  {
   "cell_type": "code",
   "execution_count": 62,
   "metadata": {},
   "outputs": [
    {
     "name": "stdout",
     "output_type": "stream",
     "text": [
      "<class 'pandas.core.frame.DataFrame'>\n",
      "Int64Index: 200 entries, 1 to 200\n",
      "Data columns (total 4 columns):\n",
      "TV           200 non-null float64\n",
      "Radio        200 non-null float64\n",
      "Newspaper    200 non-null float64\n",
      "Sales        200 non-null float64\n",
      "dtypes: float64(4)\n",
      "memory usage: 7.8 KB\n"
     ]
    }
   ],
   "source": [
    "advertising.info()"
   ]
  },
  {
   "cell_type": "markdown",
   "metadata": {},
   "source": [
    "There are multiple ways to access columns,\n",
    "1. `varaiable_name.column_name`\n",
    "\n",
    "    E.g.\n",
    "    ```python\n",
    "    advertising.TV\n",
    "    ```\n",
    "\n",
    "2. `varaiable_name[\"column_name\"]`\n",
    "\n",
    "    E.g.\n",
    "    ```python\n",
    "    advertising[\"TV\"]\n",
    "    advertising[[\"TV\", \"Newspaper\"]]\n",
    "    ```\n",
    "    \n",
    "3. `using row/column numbers`"
   ]
  },
  {
   "cell_type": "code",
   "execution_count": 63,
   "metadata": {},
   "outputs": [
    {
     "data": {
      "text/plain": [
       "Num\n",
       "1    230.1\n",
       "2     44.5\n",
       "3     17.2\n",
       "4    151.5\n",
       "5    180.8\n",
       "Name: TV, dtype: float64"
      ]
     },
     "execution_count": 63,
     "metadata": {},
     "output_type": "execute_result"
    }
   ],
   "source": [
    "advertising[\"TV\"].head()"
   ]
  },
  {
   "cell_type": "code",
   "execution_count": 64,
   "metadata": {},
   "outputs": [
    {
     "data": {
      "text/html": [
       "<div>\n",
       "<table border=\"1\" class=\"dataframe\">\n",
       "  <thead>\n",
       "    <tr style=\"text-align: right;\">\n",
       "      <th></th>\n",
       "      <th>TV</th>\n",
       "      <th>Newspaper</th>\n",
       "    </tr>\n",
       "    <tr>\n",
       "      <th>Num</th>\n",
       "      <th></th>\n",
       "      <th></th>\n",
       "    </tr>\n",
       "  </thead>\n",
       "  <tbody>\n",
       "    <tr>\n",
       "      <th>1</th>\n",
       "      <td>230.1</td>\n",
       "      <td>69.2</td>\n",
       "    </tr>\n",
       "    <tr>\n",
       "      <th>2</th>\n",
       "      <td>44.5</td>\n",
       "      <td>45.1</td>\n",
       "    </tr>\n",
       "    <tr>\n",
       "      <th>3</th>\n",
       "      <td>17.2</td>\n",
       "      <td>69.3</td>\n",
       "    </tr>\n",
       "    <tr>\n",
       "      <th>4</th>\n",
       "      <td>151.5</td>\n",
       "      <td>58.5</td>\n",
       "    </tr>\n",
       "    <tr>\n",
       "      <th>5</th>\n",
       "      <td>180.8</td>\n",
       "      <td>58.4</td>\n",
       "    </tr>\n",
       "  </tbody>\n",
       "</table>\n",
       "</div>"
      ],
      "text/plain": [
       "        TV  Newspaper\n",
       "Num                  \n",
       "1    230.1       69.2\n",
       "2     44.5       45.1\n",
       "3     17.2       69.3\n",
       "4    151.5       58.5\n",
       "5    180.8       58.4"
      ]
     },
     "execution_count": 64,
     "metadata": {},
     "output_type": "execute_result"
    }
   ],
   "source": [
    "advertising[[\"TV\", \"Newspaper\"]].head()"
   ]
  },
  {
   "cell_type": "code",
   "execution_count": 65,
   "metadata": {},
   "outputs": [
    {
     "data": {
      "text/html": [
       "<div>\n",
       "<table border=\"1\" class=\"dataframe\">\n",
       "  <thead>\n",
       "    <tr style=\"text-align: right;\">\n",
       "      <th></th>\n",
       "      <th>TV</th>\n",
       "      <th>Radio</th>\n",
       "    </tr>\n",
       "    <tr>\n",
       "      <th>Num</th>\n",
       "      <th></th>\n",
       "      <th></th>\n",
       "    </tr>\n",
       "  </thead>\n",
       "  <tbody>\n",
       "    <tr>\n",
       "      <th>1</th>\n",
       "      <td>230.1</td>\n",
       "      <td>37.8</td>\n",
       "    </tr>\n",
       "    <tr>\n",
       "      <th>2</th>\n",
       "      <td>44.5</td>\n",
       "      <td>39.3</td>\n",
       "    </tr>\n",
       "    <tr>\n",
       "      <th>3</th>\n",
       "      <td>17.2</td>\n",
       "      <td>45.9</td>\n",
       "    </tr>\n",
       "    <tr>\n",
       "      <th>4</th>\n",
       "      <td>151.5</td>\n",
       "      <td>41.3</td>\n",
       "    </tr>\n",
       "    <tr>\n",
       "      <th>5</th>\n",
       "      <td>180.8</td>\n",
       "      <td>10.8</td>\n",
       "    </tr>\n",
       "  </tbody>\n",
       "</table>\n",
       "</div>"
      ],
      "text/plain": [
       "        TV  Radio\n",
       "Num              \n",
       "1    230.1   37.8\n",
       "2     44.5   39.3\n",
       "3     17.2   45.9\n",
       "4    151.5   41.3\n",
       "5    180.8   10.8"
      ]
     },
     "execution_count": 65,
     "metadata": {},
     "output_type": "execute_result"
    }
   ],
   "source": [
    "advertising[[0, 1]].head()"
   ]
  },
  {
   "cell_type": "markdown",
   "metadata": {},
   "source": [
    "You can also use *loc* and *iloc*. The former uses locations given by *Num* column whereas later uses actual indexing that starts from 0."
   ]
  },
  {
   "cell_type": "code",
   "execution_count": 66,
   "metadata": {},
   "outputs": [
    {
     "data": {
      "text/plain": [
       "230.09999999999999"
      ]
     },
     "execution_count": 66,
     "metadata": {},
     "output_type": "execute_result"
    }
   ],
   "source": [
    "advertising.iloc[0,0] #row number, column number"
   ]
  },
  {
   "cell_type": "code",
   "execution_count": 67,
   "metadata": {},
   "outputs": [
    {
     "data": {
      "text/plain": [
       "TV           17.2\n",
       "Radio        45.9\n",
       "Newspaper    69.3\n",
       "Sales         9.3\n",
       "Name: 3, dtype: float64"
      ]
     },
     "execution_count": 67,
     "metadata": {},
     "output_type": "execute_result"
    }
   ],
   "source": [
    "advertising.iloc[2,:] #row number, column number"
   ]
  },
  {
   "cell_type": "code",
   "execution_count": 68,
   "metadata": {},
   "outputs": [
    {
     "data": {
      "text/html": [
       "<div>\n",
       "<table border=\"1\" class=\"dataframe\">\n",
       "  <thead>\n",
       "    <tr style=\"text-align: right;\">\n",
       "      <th></th>\n",
       "      <th>TV</th>\n",
       "      <th>Radio</th>\n",
       "      <th>Newspaper</th>\n",
       "      <th>Sales</th>\n",
       "    </tr>\n",
       "    <tr>\n",
       "      <th>Num</th>\n",
       "      <th></th>\n",
       "      <th></th>\n",
       "      <th></th>\n",
       "      <th></th>\n",
       "    </tr>\n",
       "  </thead>\n",
       "  <tbody>\n",
       "    <tr>\n",
       "      <th>3</th>\n",
       "      <td>17.2</td>\n",
       "      <td>45.9</td>\n",
       "      <td>69.3</td>\n",
       "      <td>9.3</td>\n",
       "    </tr>\n",
       "    <tr>\n",
       "      <th>4</th>\n",
       "      <td>151.5</td>\n",
       "      <td>41.3</td>\n",
       "      <td>58.5</td>\n",
       "      <td>18.5</td>\n",
       "    </tr>\n",
       "    <tr>\n",
       "      <th>5</th>\n",
       "      <td>180.8</td>\n",
       "      <td>10.8</td>\n",
       "      <td>58.4</td>\n",
       "      <td>12.9</td>\n",
       "    </tr>\n",
       "  </tbody>\n",
       "</table>\n",
       "</div>"
      ],
      "text/plain": [
       "        TV  Radio  Newspaper  Sales\n",
       "Num                                \n",
       "3     17.2   45.9       69.3    9.3\n",
       "4    151.5   41.3       58.5   18.5\n",
       "5    180.8   10.8       58.4   12.9"
      ]
     },
     "execution_count": 68,
     "metadata": {},
     "output_type": "execute_result"
    }
   ],
   "source": [
    "advertising.iloc[2:5,:] #row number, column number"
   ]
  },
  {
   "cell_type": "code",
   "execution_count": 69,
   "metadata": {},
   "outputs": [
    {
     "data": {
      "text/plain": [
       "TV           230.1\n",
       "Radio         37.8\n",
       "Newspaper     69.2\n",
       "Sales         22.1\n",
       "Name: 1, dtype: float64"
      ]
     },
     "execution_count": 69,
     "metadata": {},
     "output_type": "execute_result"
    }
   ],
   "source": [
    "advertising.loc[1,:] #row number, column names"
   ]
  },
  {
   "cell_type": "code",
   "execution_count": 70,
   "metadata": {},
   "outputs": [
    {
     "data": {
      "text/html": [
       "<div>\n",
       "<table border=\"1\" class=\"dataframe\">\n",
       "  <thead>\n",
       "    <tr style=\"text-align: right;\">\n",
       "      <th></th>\n",
       "      <th>Newspaper</th>\n",
       "    </tr>\n",
       "    <tr>\n",
       "      <th>Num</th>\n",
       "      <th></th>\n",
       "    </tr>\n",
       "  </thead>\n",
       "  <tbody>\n",
       "    <tr>\n",
       "      <th>1</th>\n",
       "      <td>69.2</td>\n",
       "    </tr>\n",
       "    <tr>\n",
       "      <th>2</th>\n",
       "      <td>45.1</td>\n",
       "    </tr>\n",
       "    <tr>\n",
       "      <th>3</th>\n",
       "      <td>69.3</td>\n",
       "    </tr>\n",
       "  </tbody>\n",
       "</table>\n",
       "</div>"
      ],
      "text/plain": [
       "     Newspaper\n",
       "Num           \n",
       "1         69.2\n",
       "2         45.1\n",
       "3         69.3"
      ]
     },
     "execution_count": 70,
     "metadata": {},
     "output_type": "execute_result"
    }
   ],
   "source": [
    "advertising.loc[1:3,[\"Newspaper\"]] #row number, column names"
   ]
  },
  {
   "cell_type": "markdown",
   "metadata": {},
   "source": [
    "Other uses"
   ]
  },
  {
   "cell_type": "code",
   "execution_count": 71,
   "metadata": {},
   "outputs": [
    {
     "data": {
      "text/plain": [
       "array([ 230.1,   44.5,   17.2,  151.5,  180.8,    8.7,   57.5,  120.2,\n",
       "          8.6,  199.8,   66.1,  214.7,   23.8,   97.5,  204.1,  195.4,\n",
       "         67.8,  281.4,   69.2,  147.3,  218.4,  237.4,   13.2,  228.3,\n",
       "         62.3,  262.9,  142.9,  240.1,  248.8,   70.6,  292.9,  112.9,\n",
       "         97.2,  265.6,   95.7,  290.7,  266.9,   74.7,   43.1,  228. ,\n",
       "        202.5,  177. ,  293.6,  206.9,   25.1,  175.1,   89.7,  239.9,\n",
       "        227.2,   66.9,  100.4,  216.4,  182.6,  262.7,  198.9,    7.3,\n",
       "        136.2,  210.8,  210.7,   53.5,  261.3,  239.3,  102.7,  131.1,\n",
       "         69. ,   31.5,  139.3,  216.8,  199.1,  109.8,   26.8,  129.4,\n",
       "        213.4,   16.9,   27.5,  120.5,    5.4,  116. ,   76.4,  239.8,\n",
       "         75.3,   68.4,  213.5,  193.2,   76.3,  110.7,   88.3,  134.3,\n",
       "         28.6,  217.7,  250.9,  107.4,  163.3,  197.6,  184.9,  289.7,\n",
       "        135.2,  222.4,  296.4,  280.2,  187.9,  238.2,  137.9,   25. ,\n",
       "         90.4,   13.1,  255.4,  225.8,  241.7,  175.7,  209.6,   78.2,\n",
       "         75.1,  139.2,  125.7,   19.4,  141.3,   18.8,  224. ,  123.1,\n",
       "        229.5,   87.2,    7.8,   80.2,  220.3,   59.6,    0.7,  265.2,\n",
       "          8.4,  219.8,   36.9,   48.3,   25.6,  273.7,   43. ,   73.4,\n",
       "        193.7,  220.5,  104.6,   96.2,  140.3,  243.2,   38. ,   44.7,\n",
       "        280.7,  121. ,  171.3,  187.8,    4.1,   93.9,  149.8,   11.7,\n",
       "        131.7,  172.5,   85.7,  188.4,  163.5,  117.2,  234.5,   17.9,\n",
       "        206.8,  215.4,  284.3,   50. ,  164.5,   19.6,  168.4,  276.9,\n",
       "        248.4,  170.2,  276.7,  165.6,  156.6,  218.5,   56.2,  287.6,\n",
       "        253.8,  205. ,  139.5,  191.1,  286. ,   18.7,   39.5,   75.5,\n",
       "        166.8,  149.7,   38.2,   94.2,  283.6,  232.1])"
      ]
     },
     "execution_count": 71,
     "metadata": {},
     "output_type": "execute_result"
    }
   ],
   "source": [
    "advertising[\"TV\"].unique()"
   ]
  },
  {
   "cell_type": "code",
   "execution_count": 72,
   "metadata": {},
   "outputs": [
    {
     "data": {
      "text/plain": [
       "TV           147.0425\n",
       "Radio         23.2640\n",
       "Newspaper     30.5540\n",
       "Sales         14.0225\n",
       "dtype: float64"
      ]
     },
     "execution_count": 72,
     "metadata": {},
     "output_type": "execute_result"
    }
   ],
   "source": [
    "advertising.mean()"
   ]
  },
  {
   "cell_type": "code",
   "execution_count": 73,
   "metadata": {},
   "outputs": [
    {
     "data": {
      "text/html": [
       "<div>\n",
       "<table border=\"1\" class=\"dataframe\">\n",
       "  <thead>\n",
       "    <tr style=\"text-align: right;\">\n",
       "      <th></th>\n",
       "      <th>TV</th>\n",
       "      <th>Radio</th>\n",
       "      <th>Newspaper</th>\n",
       "      <th>Sales</th>\n",
       "    </tr>\n",
       "  </thead>\n",
       "  <tbody>\n",
       "    <tr>\n",
       "      <th>count</th>\n",
       "      <td>200.000000</td>\n",
       "      <td>200.000000</td>\n",
       "      <td>200.000000</td>\n",
       "      <td>200.000000</td>\n",
       "    </tr>\n",
       "    <tr>\n",
       "      <th>mean</th>\n",
       "      <td>147.042500</td>\n",
       "      <td>23.264000</td>\n",
       "      <td>30.554000</td>\n",
       "      <td>14.022500</td>\n",
       "    </tr>\n",
       "    <tr>\n",
       "      <th>std</th>\n",
       "      <td>85.854236</td>\n",
       "      <td>14.846809</td>\n",
       "      <td>21.778621</td>\n",
       "      <td>5.217457</td>\n",
       "    </tr>\n",
       "    <tr>\n",
       "      <th>min</th>\n",
       "      <td>0.700000</td>\n",
       "      <td>0.000000</td>\n",
       "      <td>0.300000</td>\n",
       "      <td>1.600000</td>\n",
       "    </tr>\n",
       "    <tr>\n",
       "      <th>25%</th>\n",
       "      <td>74.375000</td>\n",
       "      <td>9.975000</td>\n",
       "      <td>12.750000</td>\n",
       "      <td>10.375000</td>\n",
       "    </tr>\n",
       "    <tr>\n",
       "      <th>50%</th>\n",
       "      <td>149.750000</td>\n",
       "      <td>22.900000</td>\n",
       "      <td>25.750000</td>\n",
       "      <td>12.900000</td>\n",
       "    </tr>\n",
       "    <tr>\n",
       "      <th>75%</th>\n",
       "      <td>218.825000</td>\n",
       "      <td>36.525000</td>\n",
       "      <td>45.100000</td>\n",
       "      <td>17.400000</td>\n",
       "    </tr>\n",
       "    <tr>\n",
       "      <th>max</th>\n",
       "      <td>296.400000</td>\n",
       "      <td>49.600000</td>\n",
       "      <td>114.000000</td>\n",
       "      <td>27.000000</td>\n",
       "    </tr>\n",
       "  </tbody>\n",
       "</table>\n",
       "</div>"
      ],
      "text/plain": [
       "               TV       Radio   Newspaper       Sales\n",
       "count  200.000000  200.000000  200.000000  200.000000\n",
       "mean   147.042500   23.264000   30.554000   14.022500\n",
       "std     85.854236   14.846809   21.778621    5.217457\n",
       "min      0.700000    0.000000    0.300000    1.600000\n",
       "25%     74.375000    9.975000   12.750000   10.375000\n",
       "50%    149.750000   22.900000   25.750000   12.900000\n",
       "75%    218.825000   36.525000   45.100000   17.400000\n",
       "max    296.400000   49.600000  114.000000   27.000000"
      ]
     },
     "execution_count": 73,
     "metadata": {},
     "output_type": "execute_result"
    }
   ],
   "source": [
    "advertising.describe()"
   ]
  },
  {
   "cell_type": "code",
   "execution_count": 74,
   "metadata": {},
   "outputs": [
    {
     "data": {
      "text/html": [
       "<div>\n",
       "<table border=\"1\" class=\"dataframe\">\n",
       "  <thead>\n",
       "    <tr style=\"text-align: right;\">\n",
       "      <th></th>\n",
       "      <th>TV</th>\n",
       "      <th>Radio</th>\n",
       "      <th>Newspaper</th>\n",
       "      <th>Sales</th>\n",
       "    </tr>\n",
       "  </thead>\n",
       "  <tbody>\n",
       "    <tr>\n",
       "      <th>TV</th>\n",
       "      <td>1.000000</td>\n",
       "      <td>0.054809</td>\n",
       "      <td>0.056648</td>\n",
       "      <td>0.782224</td>\n",
       "    </tr>\n",
       "    <tr>\n",
       "      <th>Radio</th>\n",
       "      <td>0.054809</td>\n",
       "      <td>1.000000</td>\n",
       "      <td>0.354104</td>\n",
       "      <td>0.576223</td>\n",
       "    </tr>\n",
       "    <tr>\n",
       "      <th>Newspaper</th>\n",
       "      <td>0.056648</td>\n",
       "      <td>0.354104</td>\n",
       "      <td>1.000000</td>\n",
       "      <td>0.228299</td>\n",
       "    </tr>\n",
       "    <tr>\n",
       "      <th>Sales</th>\n",
       "      <td>0.782224</td>\n",
       "      <td>0.576223</td>\n",
       "      <td>0.228299</td>\n",
       "      <td>1.000000</td>\n",
       "    </tr>\n",
       "  </tbody>\n",
       "</table>\n",
       "</div>"
      ],
      "text/plain": [
       "                 TV     Radio  Newspaper     Sales\n",
       "TV         1.000000  0.054809   0.056648  0.782224\n",
       "Radio      0.054809  1.000000   0.354104  0.576223\n",
       "Newspaper  0.056648  0.354104   1.000000  0.228299\n",
       "Sales      0.782224  0.576223   0.228299  1.000000"
      ]
     },
     "execution_count": 74,
     "metadata": {},
     "output_type": "execute_result"
    }
   ],
   "source": [
    "advertising.corr()"
   ]
  }
 ],
 "metadata": {
  "kernelspec": {
   "display_name": "Python 3",
   "language": "python",
   "name": "python3"
  },
  "language_info": {
   "codemirror_mode": {
    "name": "ipython",
    "version": 3
   },
   "file_extension": ".py",
   "mimetype": "text/x-python",
   "name": "python",
   "nbconvert_exporter": "python",
   "pygments_lexer": "ipython3",
   "version": "3.6.7"
  }
 },
 "nbformat": 4,
 "nbformat_minor": 1
}
